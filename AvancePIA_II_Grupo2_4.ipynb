{
 "cells": [
  {
   "cell_type": "markdown",
   "metadata": {},
   "source": [
    "# Equipo 4\n",
    "**Grupo:** 002, Miércoles\n",
    "\n",
    "**Integrantes**\n",
    "\n",
    "+ 1858163, Cárdenas Elizondo, Rebeca\n",
    "+ 1877340, Leal Cantú, Vanessa\n",
    "+ 1847012, Botello Flores, José Ricardo"
   ]
  },
  {
   "cell_type": "markdown",
   "metadata": {},
   "source": [
    "### Base de datos: \"Stroke Prediction Dataset\"\n",
    "**URL:** https://www.kaggle.com/fedesoriano/stroke-prediction-dataset?select=healthcare-dataset-stroke-data.csv"
   ]
  },
  {
   "cell_type": "markdown",
   "metadata": {},
   "source": [
    "### Descripción de la base de datos\n",
    "\n",
    "El derrame cerebral es considerado como la segunda causa de muerte en el mundo. Esto lo puede sufrir cualquier persona, es decir no hay un rango de edades específico. En esta base de datos encontramos información sobre los factores para predecir si la persona puede llegar a tener un derrame o no. Algunos ejemplos son si la persona ha estado casada, enfermedad del corazón, fuma o si alguna vez ha tenido algún derrame. \n",
    "\n",
    "### Descripción de columnas\n",
    "\n",
    "+ **Género:** Representa el género de la persona en este caso viene representado por ‘Male’ para hombre, ‘Female’ para mujer o ‘Other’ para otro.\n",
    "+ **Edad:** Edad del paciente              \n",
    "+ **Hipertensión:** Representa si el paciente tiene o no hipertensión. El número ‘0’ indica que el paciente no tiene hipertensión y el número ‘1’ indica que el paciente si tiene hipertensión.           \n",
    "+ **Enfermedad_Corazón:** Representa si el paciente tiene o no una enfermedad del corazón. El número ‘0’ indica que el paciente no tiene enfermedad del corazón y el número ‘1’ indica que el paciente si tiene alguna enfermedad del corazón.\n",
    "+ **Edo_Civil:** Representa si el paciente ha estado o no casado. El  ‘No’ indica que el paciente no ha estado casado y el  ‘Yes’ indica que el paciente si ha estado casado.  \n",
    "+ **Tipo_Trabajo:** Indica el tipo de trabajo del paciente y en este caso hay cinco opciones. La primera ‘children’ indica que la persona es un infante. ‘Govt_jov’ indica que la persona trabaja en algo relacionado al gobierno. ‘Never_worked’ indica que la persona nunca ha trabajado. ‘Private’ indica que la persona trabaja en una empresa privada. ‘Self-employed’ indica que la persona tiene su propio negocio.        \n",
    "+ **Tipo_Residencia:** Indica donde vive la persona si en área rural o urbana. Viene representado por ‘Rural’ si vive en área rural y ‘Urban’ si vive en área urbana.   \n",
    "+ **Nivel_Glucosa:** Indica el nivel de glucosa en la sangre del paciente. \n",
    "BMI: Representa el nivel de masa corporal de la persona.        \n",
    "+ **Consumo_Tabaco:** Representa el status del paciente en cuanto si fuma o no. La primera categoría es ‘formerly smoked’, indica si la persona fumaba anteriormente. ‘never smoked’ si la persona nunca ha fumado, ‘smokes’ si la persona fuma actualmente y ‘Unknown’  si no se sabe esta información del paciente. \n",
    "+ **Derrame_Cerebral:** Representa si el paciente ya ha tenido un derrame cerebral. El número ‘0’ indica que no ha tenido un derrame y el ‘1’ indica que si ha tenido un derrame. \n",
    "\n",
    "### Tipo de dato: \n",
    "\n",
    "\n",
    "+ **Género:** objeto\n",
    "+ **Edad:** flotante\n",
    "+ **Hipertensión:** entero\n",
    "+ **Enfermedad_Corazón:** entero\n",
    "+ **Edo_Civil:** objeto\n",
    "+ **Tipo_Trabajo:** objeto\n",
    "+ **Tipo_Residencia:** objeto\n",
    "+ **Nivel_Glucosa:**  flotante\n",
    "+ **BMI:** flotante\n",
    "+ **Consumo_Tabaco:** objeto\n",
    "+ **Derrame_Cerebral:** entero\n",
    "\n",
    "\n",
    "**Tamaño de la base de datos:**  5110 pacientes y 11 columnas.\n",
    "\n",
    "### Justificación del uso de datos: \n",
    "\n",
    "**¿Cuáles fueron las características que nos llamó la atención de los datos?** \n",
    "\n",
    "Los datos presentan información relevante sobre los factores que están relacionados a un derrame cerebral en las personas. Cada columna presenta información sobre cada factor y algunos están clasificados en “SÍ o NO” y otros en categorías específicas. Estamos interesados en estos datos ya que nos facilita entender ciertos aspectos e incluso nos incita a querer saber más sobre el tema. También nos llamó la atención ya que trabajar con este tipo de datos es muy práctico.\n",
    "\n",
    "**¿Qué beneficio encontramos de trabajar con estos datos?**\n",
    "\n",
    "El beneficio que encontramos al trabajar con estos datos es que al estar en forma de tabla es muy sencillo por medio de python limpiar datos, en este caso retiramos columnas que no necesitábamos. Una ventaja que encontramos de esta base de datos es que podemos sacar datos estadísticos para poder crear gráficos y poder representar la información de manera más sencilla. Hablando del tema en sí, llegamos a la conclusión que se puede apegar a nuestra carrera (Actuaría), incluso podríamos mezclar conocimientos de otras materias con esto.\n",
    "\n",
    "\n",
    "### Objetivo principal\n",
    "\n",
    "Pronosticar si es probable que un paciente sufra de un derrame cerebral nuevamente de acuerdo a los factores mencionados en la base de datos. \n",
    "\n",
    "### Objetivos secundarios\n",
    "\n",
    "Encontrar qué enfermedad es la más influyente al sufrir un derrame cerebral.\n",
    "Ver qué tanto influye la edad con nivel de glucosa y  el BMI de la persona. \n",
    "\n",
    "### Preguntas de interés\n",
    "\n",
    "+ ¿Qué tan propensos son los menores de edad a tener un derrame cerebral?\n",
    "+ ¿Hay manera de evitar un derrame cerebral, refiriéndose a temas de salud?"
   ]
  },
  {
   "cell_type": "code",
   "execution_count": 1,
   "metadata": {},
   "outputs": [],
   "source": [
    "import pandas as pd"
   ]
  },
  {
   "cell_type": "code",
   "execution_count": 2,
   "metadata": {},
   "outputs": [
    {
     "data": {
      "text/html": [
       "<div>\n",
       "<style scoped>\n",
       "    .dataframe tbody tr th:only-of-type {\n",
       "        vertical-align: middle;\n",
       "    }\n",
       "\n",
       "    .dataframe tbody tr th {\n",
       "        vertical-align: top;\n",
       "    }\n",
       "\n",
       "    .dataframe thead th {\n",
       "        text-align: right;\n",
       "    }\n",
       "</style>\n",
       "<table border=\"1\" class=\"dataframe\">\n",
       "  <thead>\n",
       "    <tr style=\"text-align: right;\">\n",
       "      <th></th>\n",
       "      <th>id</th>\n",
       "      <th>gender</th>\n",
       "      <th>age</th>\n",
       "      <th>hypertension</th>\n",
       "      <th>heart_disease</th>\n",
       "      <th>ever_married</th>\n",
       "      <th>work_type</th>\n",
       "      <th>Residence_type</th>\n",
       "      <th>avg_glucose_level</th>\n",
       "      <th>bmi</th>\n",
       "      <th>smoking_status</th>\n",
       "      <th>stroke</th>\n",
       "    </tr>\n",
       "  </thead>\n",
       "  <tbody>\n",
       "    <tr>\n",
       "      <th>0</th>\n",
       "      <td>9046</td>\n",
       "      <td>Male</td>\n",
       "      <td>67.0</td>\n",
       "      <td>0</td>\n",
       "      <td>1</td>\n",
       "      <td>Yes</td>\n",
       "      <td>Private</td>\n",
       "      <td>Urban</td>\n",
       "      <td>228.69</td>\n",
       "      <td>36.6</td>\n",
       "      <td>formerly smoked</td>\n",
       "      <td>1</td>\n",
       "    </tr>\n",
       "    <tr>\n",
       "      <th>1</th>\n",
       "      <td>51676</td>\n",
       "      <td>Female</td>\n",
       "      <td>61.0</td>\n",
       "      <td>0</td>\n",
       "      <td>0</td>\n",
       "      <td>Yes</td>\n",
       "      <td>Self-employed</td>\n",
       "      <td>Rural</td>\n",
       "      <td>202.21</td>\n",
       "      <td>NaN</td>\n",
       "      <td>never smoked</td>\n",
       "      <td>1</td>\n",
       "    </tr>\n",
       "    <tr>\n",
       "      <th>2</th>\n",
       "      <td>31112</td>\n",
       "      <td>Male</td>\n",
       "      <td>80.0</td>\n",
       "      <td>0</td>\n",
       "      <td>1</td>\n",
       "      <td>Yes</td>\n",
       "      <td>Private</td>\n",
       "      <td>Rural</td>\n",
       "      <td>105.92</td>\n",
       "      <td>32.5</td>\n",
       "      <td>never smoked</td>\n",
       "      <td>1</td>\n",
       "    </tr>\n",
       "    <tr>\n",
       "      <th>3</th>\n",
       "      <td>60182</td>\n",
       "      <td>Female</td>\n",
       "      <td>49.0</td>\n",
       "      <td>0</td>\n",
       "      <td>0</td>\n",
       "      <td>Yes</td>\n",
       "      <td>Private</td>\n",
       "      <td>Urban</td>\n",
       "      <td>171.23</td>\n",
       "      <td>34.4</td>\n",
       "      <td>smokes</td>\n",
       "      <td>1</td>\n",
       "    </tr>\n",
       "    <tr>\n",
       "      <th>4</th>\n",
       "      <td>1665</td>\n",
       "      <td>Female</td>\n",
       "      <td>79.0</td>\n",
       "      <td>1</td>\n",
       "      <td>0</td>\n",
       "      <td>Yes</td>\n",
       "      <td>Self-employed</td>\n",
       "      <td>Rural</td>\n",
       "      <td>174.12</td>\n",
       "      <td>24.0</td>\n",
       "      <td>never smoked</td>\n",
       "      <td>1</td>\n",
       "    </tr>\n",
       "    <tr>\n",
       "      <th>...</th>\n",
       "      <td>...</td>\n",
       "      <td>...</td>\n",
       "      <td>...</td>\n",
       "      <td>...</td>\n",
       "      <td>...</td>\n",
       "      <td>...</td>\n",
       "      <td>...</td>\n",
       "      <td>...</td>\n",
       "      <td>...</td>\n",
       "      <td>...</td>\n",
       "      <td>...</td>\n",
       "      <td>...</td>\n",
       "    </tr>\n",
       "    <tr>\n",
       "      <th>5105</th>\n",
       "      <td>18234</td>\n",
       "      <td>Female</td>\n",
       "      <td>80.0</td>\n",
       "      <td>1</td>\n",
       "      <td>0</td>\n",
       "      <td>Yes</td>\n",
       "      <td>Private</td>\n",
       "      <td>Urban</td>\n",
       "      <td>83.75</td>\n",
       "      <td>NaN</td>\n",
       "      <td>never smoked</td>\n",
       "      <td>0</td>\n",
       "    </tr>\n",
       "    <tr>\n",
       "      <th>5106</th>\n",
       "      <td>44873</td>\n",
       "      <td>Female</td>\n",
       "      <td>81.0</td>\n",
       "      <td>0</td>\n",
       "      <td>0</td>\n",
       "      <td>Yes</td>\n",
       "      <td>Self-employed</td>\n",
       "      <td>Urban</td>\n",
       "      <td>125.20</td>\n",
       "      <td>40.0</td>\n",
       "      <td>never smoked</td>\n",
       "      <td>0</td>\n",
       "    </tr>\n",
       "    <tr>\n",
       "      <th>5107</th>\n",
       "      <td>19723</td>\n",
       "      <td>Female</td>\n",
       "      <td>35.0</td>\n",
       "      <td>0</td>\n",
       "      <td>0</td>\n",
       "      <td>Yes</td>\n",
       "      <td>Self-employed</td>\n",
       "      <td>Rural</td>\n",
       "      <td>82.99</td>\n",
       "      <td>30.6</td>\n",
       "      <td>never smoked</td>\n",
       "      <td>0</td>\n",
       "    </tr>\n",
       "    <tr>\n",
       "      <th>5108</th>\n",
       "      <td>37544</td>\n",
       "      <td>Male</td>\n",
       "      <td>51.0</td>\n",
       "      <td>0</td>\n",
       "      <td>0</td>\n",
       "      <td>Yes</td>\n",
       "      <td>Private</td>\n",
       "      <td>Rural</td>\n",
       "      <td>166.29</td>\n",
       "      <td>25.6</td>\n",
       "      <td>formerly smoked</td>\n",
       "      <td>0</td>\n",
       "    </tr>\n",
       "    <tr>\n",
       "      <th>5109</th>\n",
       "      <td>44679</td>\n",
       "      <td>Female</td>\n",
       "      <td>44.0</td>\n",
       "      <td>0</td>\n",
       "      <td>0</td>\n",
       "      <td>Yes</td>\n",
       "      <td>Govt_job</td>\n",
       "      <td>Urban</td>\n",
       "      <td>85.28</td>\n",
       "      <td>26.2</td>\n",
       "      <td>Unknown</td>\n",
       "      <td>0</td>\n",
       "    </tr>\n",
       "  </tbody>\n",
       "</table>\n",
       "<p>5110 rows × 12 columns</p>\n",
       "</div>"
      ],
      "text/plain": [
       "         id  gender   age  hypertension  heart_disease ever_married  \\\n",
       "0      9046    Male  67.0             0              1          Yes   \n",
       "1     51676  Female  61.0             0              0          Yes   \n",
       "2     31112    Male  80.0             0              1          Yes   \n",
       "3     60182  Female  49.0             0              0          Yes   \n",
       "4      1665  Female  79.0             1              0          Yes   \n",
       "...     ...     ...   ...           ...            ...          ...   \n",
       "5105  18234  Female  80.0             1              0          Yes   \n",
       "5106  44873  Female  81.0             0              0          Yes   \n",
       "5107  19723  Female  35.0             0              0          Yes   \n",
       "5108  37544    Male  51.0             0              0          Yes   \n",
       "5109  44679  Female  44.0             0              0          Yes   \n",
       "\n",
       "          work_type Residence_type  avg_glucose_level   bmi   smoking_status  \\\n",
       "0           Private          Urban             228.69  36.6  formerly smoked   \n",
       "1     Self-employed          Rural             202.21   NaN     never smoked   \n",
       "2           Private          Rural             105.92  32.5     never smoked   \n",
       "3           Private          Urban             171.23  34.4           smokes   \n",
       "4     Self-employed          Rural             174.12  24.0     never smoked   \n",
       "...             ...            ...                ...   ...              ...   \n",
       "5105        Private          Urban              83.75   NaN     never smoked   \n",
       "5106  Self-employed          Urban             125.20  40.0     never smoked   \n",
       "5107  Self-employed          Rural              82.99  30.6     never smoked   \n",
       "5108        Private          Rural             166.29  25.6  formerly smoked   \n",
       "5109       Govt_job          Urban              85.28  26.2          Unknown   \n",
       "\n",
       "      stroke  \n",
       "0          1  \n",
       "1          1  \n",
       "2          1  \n",
       "3          1  \n",
       "4          1  \n",
       "...      ...  \n",
       "5105       0  \n",
       "5106       0  \n",
       "5107       0  \n",
       "5108       0  \n",
       "5109       0  \n",
       "\n",
       "[5110 rows x 12 columns]"
      ]
     },
     "execution_count": 2,
     "metadata": {},
     "output_type": "execute_result"
    }
   ],
   "source": [
    "dff = pd.read_csv(\"C:/Users/rbote/Downloads/healthcare-dataset-stroke-data.csv\", encoding = \"utf8\")\n",
    "dff     "
   ]
  },
  {
   "cell_type": "code",
   "execution_count": 3,
   "metadata": {},
   "outputs": [
    {
     "data": {
      "text/plain": [
       "(5110, 12)"
      ]
     },
     "execution_count": 3,
     "metadata": {},
     "output_type": "execute_result"
    }
   ],
   "source": [
    "dff.shape"
   ]
  },
  {
   "cell_type": "code",
   "execution_count": 4,
   "metadata": {},
   "outputs": [
    {
     "data": {
      "text/html": [
       "<div>\n",
       "<style scoped>\n",
       "    .dataframe tbody tr th:only-of-type {\n",
       "        vertical-align: middle;\n",
       "    }\n",
       "\n",
       "    .dataframe tbody tr th {\n",
       "        vertical-align: top;\n",
       "    }\n",
       "\n",
       "    .dataframe thead th {\n",
       "        text-align: right;\n",
       "    }\n",
       "</style>\n",
       "<table border=\"1\" class=\"dataframe\">\n",
       "  <thead>\n",
       "    <tr style=\"text-align: right;\">\n",
       "      <th></th>\n",
       "      <th>id</th>\n",
       "      <th>gender</th>\n",
       "      <th>age</th>\n",
       "      <th>hypertension</th>\n",
       "      <th>heart_disease</th>\n",
       "      <th>ever_married</th>\n",
       "      <th>work_type</th>\n",
       "      <th>Residence_type</th>\n",
       "      <th>avg_glucose_level</th>\n",
       "      <th>bmi</th>\n",
       "      <th>smoking_status</th>\n",
       "      <th>stroke</th>\n",
       "    </tr>\n",
       "  </thead>\n",
       "  <tbody>\n",
       "    <tr>\n",
       "      <th>0</th>\n",
       "      <td>9046</td>\n",
       "      <td>Male</td>\n",
       "      <td>67.0</td>\n",
       "      <td>0</td>\n",
       "      <td>1</td>\n",
       "      <td>Yes</td>\n",
       "      <td>Private</td>\n",
       "      <td>Urban</td>\n",
       "      <td>228.69</td>\n",
       "      <td>36.6</td>\n",
       "      <td>formerly smoked</td>\n",
       "      <td>1</td>\n",
       "    </tr>\n",
       "    <tr>\n",
       "      <th>1</th>\n",
       "      <td>51676</td>\n",
       "      <td>Female</td>\n",
       "      <td>61.0</td>\n",
       "      <td>0</td>\n",
       "      <td>0</td>\n",
       "      <td>Yes</td>\n",
       "      <td>Self-employed</td>\n",
       "      <td>Rural</td>\n",
       "      <td>202.21</td>\n",
       "      <td>NaN</td>\n",
       "      <td>never smoked</td>\n",
       "      <td>1</td>\n",
       "    </tr>\n",
       "    <tr>\n",
       "      <th>2</th>\n",
       "      <td>31112</td>\n",
       "      <td>Male</td>\n",
       "      <td>80.0</td>\n",
       "      <td>0</td>\n",
       "      <td>1</td>\n",
       "      <td>Yes</td>\n",
       "      <td>Private</td>\n",
       "      <td>Rural</td>\n",
       "      <td>105.92</td>\n",
       "      <td>32.5</td>\n",
       "      <td>never smoked</td>\n",
       "      <td>1</td>\n",
       "    </tr>\n",
       "    <tr>\n",
       "      <th>3</th>\n",
       "      <td>60182</td>\n",
       "      <td>Female</td>\n",
       "      <td>49.0</td>\n",
       "      <td>0</td>\n",
       "      <td>0</td>\n",
       "      <td>Yes</td>\n",
       "      <td>Private</td>\n",
       "      <td>Urban</td>\n",
       "      <td>171.23</td>\n",
       "      <td>34.4</td>\n",
       "      <td>smokes</td>\n",
       "      <td>1</td>\n",
       "    </tr>\n",
       "    <tr>\n",
       "      <th>4</th>\n",
       "      <td>1665</td>\n",
       "      <td>Female</td>\n",
       "      <td>79.0</td>\n",
       "      <td>1</td>\n",
       "      <td>0</td>\n",
       "      <td>Yes</td>\n",
       "      <td>Self-employed</td>\n",
       "      <td>Rural</td>\n",
       "      <td>174.12</td>\n",
       "      <td>24.0</td>\n",
       "      <td>never smoked</td>\n",
       "      <td>1</td>\n",
       "    </tr>\n",
       "  </tbody>\n",
       "</table>\n",
       "</div>"
      ],
      "text/plain": [
       "      id  gender   age  hypertension  heart_disease ever_married  \\\n",
       "0   9046    Male  67.0             0              1          Yes   \n",
       "1  51676  Female  61.0             0              0          Yes   \n",
       "2  31112    Male  80.0             0              1          Yes   \n",
       "3  60182  Female  49.0             0              0          Yes   \n",
       "4   1665  Female  79.0             1              0          Yes   \n",
       "\n",
       "       work_type Residence_type  avg_glucose_level   bmi   smoking_status  \\\n",
       "0        Private          Urban             228.69  36.6  formerly smoked   \n",
       "1  Self-employed          Rural             202.21   NaN     never smoked   \n",
       "2        Private          Rural             105.92  32.5     never smoked   \n",
       "3        Private          Urban             171.23  34.4           smokes   \n",
       "4  Self-employed          Rural             174.12  24.0     never smoked   \n",
       "\n",
       "   stroke  \n",
       "0       1  \n",
       "1       1  \n",
       "2       1  \n",
       "3       1  \n",
       "4       1  "
      ]
     },
     "execution_count": 4,
     "metadata": {},
     "output_type": "execute_result"
    }
   ],
   "source": [
    "dff.head()"
   ]
  },
  {
   "cell_type": "code",
   "execution_count": 5,
   "metadata": {},
   "outputs": [
    {
     "data": {
      "text/html": [
       "<div>\n",
       "<style scoped>\n",
       "    .dataframe tbody tr th:only-of-type {\n",
       "        vertical-align: middle;\n",
       "    }\n",
       "\n",
       "    .dataframe tbody tr th {\n",
       "        vertical-align: top;\n",
       "    }\n",
       "\n",
       "    .dataframe thead th {\n",
       "        text-align: right;\n",
       "    }\n",
       "</style>\n",
       "<table border=\"1\" class=\"dataframe\">\n",
       "  <thead>\n",
       "    <tr style=\"text-align: right;\">\n",
       "      <th></th>\n",
       "      <th>ID</th>\n",
       "      <th>Genero</th>\n",
       "      <th>Edad</th>\n",
       "      <th>Hipertension</th>\n",
       "      <th>Enfermedad_Corazon</th>\n",
       "      <th>Edo_Civil</th>\n",
       "      <th>Tipo_Trabajo</th>\n",
       "      <th>Tipo_Residencia</th>\n",
       "      <th>Nivel_Glucosa</th>\n",
       "      <th>BMI</th>\n",
       "      <th>Consumo_Tabaco</th>\n",
       "      <th>Derrame_Cerebral</th>\n",
       "    </tr>\n",
       "  </thead>\n",
       "  <tbody>\n",
       "    <tr>\n",
       "      <th>0</th>\n",
       "      <td>9046</td>\n",
       "      <td>Male</td>\n",
       "      <td>67.0</td>\n",
       "      <td>0</td>\n",
       "      <td>1</td>\n",
       "      <td>Yes</td>\n",
       "      <td>Private</td>\n",
       "      <td>Urban</td>\n",
       "      <td>228.69</td>\n",
       "      <td>36.6</td>\n",
       "      <td>formerly smoked</td>\n",
       "      <td>1</td>\n",
       "    </tr>\n",
       "    <tr>\n",
       "      <th>1</th>\n",
       "      <td>51676</td>\n",
       "      <td>Female</td>\n",
       "      <td>61.0</td>\n",
       "      <td>0</td>\n",
       "      <td>0</td>\n",
       "      <td>Yes</td>\n",
       "      <td>Self-employed</td>\n",
       "      <td>Rural</td>\n",
       "      <td>202.21</td>\n",
       "      <td>NaN</td>\n",
       "      <td>never smoked</td>\n",
       "      <td>1</td>\n",
       "    </tr>\n",
       "    <tr>\n",
       "      <th>2</th>\n",
       "      <td>31112</td>\n",
       "      <td>Male</td>\n",
       "      <td>80.0</td>\n",
       "      <td>0</td>\n",
       "      <td>1</td>\n",
       "      <td>Yes</td>\n",
       "      <td>Private</td>\n",
       "      <td>Rural</td>\n",
       "      <td>105.92</td>\n",
       "      <td>32.5</td>\n",
       "      <td>never smoked</td>\n",
       "      <td>1</td>\n",
       "    </tr>\n",
       "    <tr>\n",
       "      <th>3</th>\n",
       "      <td>60182</td>\n",
       "      <td>Female</td>\n",
       "      <td>49.0</td>\n",
       "      <td>0</td>\n",
       "      <td>0</td>\n",
       "      <td>Yes</td>\n",
       "      <td>Private</td>\n",
       "      <td>Urban</td>\n",
       "      <td>171.23</td>\n",
       "      <td>34.4</td>\n",
       "      <td>smokes</td>\n",
       "      <td>1</td>\n",
       "    </tr>\n",
       "    <tr>\n",
       "      <th>4</th>\n",
       "      <td>1665</td>\n",
       "      <td>Female</td>\n",
       "      <td>79.0</td>\n",
       "      <td>1</td>\n",
       "      <td>0</td>\n",
       "      <td>Yes</td>\n",
       "      <td>Self-employed</td>\n",
       "      <td>Rural</td>\n",
       "      <td>174.12</td>\n",
       "      <td>24.0</td>\n",
       "      <td>never smoked</td>\n",
       "      <td>1</td>\n",
       "    </tr>\n",
       "    <tr>\n",
       "      <th>...</th>\n",
       "      <td>...</td>\n",
       "      <td>...</td>\n",
       "      <td>...</td>\n",
       "      <td>...</td>\n",
       "      <td>...</td>\n",
       "      <td>...</td>\n",
       "      <td>...</td>\n",
       "      <td>...</td>\n",
       "      <td>...</td>\n",
       "      <td>...</td>\n",
       "      <td>...</td>\n",
       "      <td>...</td>\n",
       "    </tr>\n",
       "    <tr>\n",
       "      <th>5105</th>\n",
       "      <td>18234</td>\n",
       "      <td>Female</td>\n",
       "      <td>80.0</td>\n",
       "      <td>1</td>\n",
       "      <td>0</td>\n",
       "      <td>Yes</td>\n",
       "      <td>Private</td>\n",
       "      <td>Urban</td>\n",
       "      <td>83.75</td>\n",
       "      <td>NaN</td>\n",
       "      <td>never smoked</td>\n",
       "      <td>0</td>\n",
       "    </tr>\n",
       "    <tr>\n",
       "      <th>5106</th>\n",
       "      <td>44873</td>\n",
       "      <td>Female</td>\n",
       "      <td>81.0</td>\n",
       "      <td>0</td>\n",
       "      <td>0</td>\n",
       "      <td>Yes</td>\n",
       "      <td>Self-employed</td>\n",
       "      <td>Urban</td>\n",
       "      <td>125.20</td>\n",
       "      <td>40.0</td>\n",
       "      <td>never smoked</td>\n",
       "      <td>0</td>\n",
       "    </tr>\n",
       "    <tr>\n",
       "      <th>5107</th>\n",
       "      <td>19723</td>\n",
       "      <td>Female</td>\n",
       "      <td>35.0</td>\n",
       "      <td>0</td>\n",
       "      <td>0</td>\n",
       "      <td>Yes</td>\n",
       "      <td>Self-employed</td>\n",
       "      <td>Rural</td>\n",
       "      <td>82.99</td>\n",
       "      <td>30.6</td>\n",
       "      <td>never smoked</td>\n",
       "      <td>0</td>\n",
       "    </tr>\n",
       "    <tr>\n",
       "      <th>5108</th>\n",
       "      <td>37544</td>\n",
       "      <td>Male</td>\n",
       "      <td>51.0</td>\n",
       "      <td>0</td>\n",
       "      <td>0</td>\n",
       "      <td>Yes</td>\n",
       "      <td>Private</td>\n",
       "      <td>Rural</td>\n",
       "      <td>166.29</td>\n",
       "      <td>25.6</td>\n",
       "      <td>formerly smoked</td>\n",
       "      <td>0</td>\n",
       "    </tr>\n",
       "    <tr>\n",
       "      <th>5109</th>\n",
       "      <td>44679</td>\n",
       "      <td>Female</td>\n",
       "      <td>44.0</td>\n",
       "      <td>0</td>\n",
       "      <td>0</td>\n",
       "      <td>Yes</td>\n",
       "      <td>Govt_job</td>\n",
       "      <td>Urban</td>\n",
       "      <td>85.28</td>\n",
       "      <td>26.2</td>\n",
       "      <td>Unknown</td>\n",
       "      <td>0</td>\n",
       "    </tr>\n",
       "  </tbody>\n",
       "</table>\n",
       "<p>5110 rows × 12 columns</p>\n",
       "</div>"
      ],
      "text/plain": [
       "         ID  Genero  Edad  Hipertension  Enfermedad_Corazon Edo_Civil  \\\n",
       "0      9046    Male  67.0             0                   1       Yes   \n",
       "1     51676  Female  61.0             0                   0       Yes   \n",
       "2     31112    Male  80.0             0                   1       Yes   \n",
       "3     60182  Female  49.0             0                   0       Yes   \n",
       "4      1665  Female  79.0             1                   0       Yes   \n",
       "...     ...     ...   ...           ...                 ...       ...   \n",
       "5105  18234  Female  80.0             1                   0       Yes   \n",
       "5106  44873  Female  81.0             0                   0       Yes   \n",
       "5107  19723  Female  35.0             0                   0       Yes   \n",
       "5108  37544    Male  51.0             0                   0       Yes   \n",
       "5109  44679  Female  44.0             0                   0       Yes   \n",
       "\n",
       "       Tipo_Trabajo Tipo_Residencia  Nivel_Glucosa   BMI   Consumo_Tabaco  \\\n",
       "0           Private           Urban         228.69  36.6  formerly smoked   \n",
       "1     Self-employed           Rural         202.21   NaN     never smoked   \n",
       "2           Private           Rural         105.92  32.5     never smoked   \n",
       "3           Private           Urban         171.23  34.4           smokes   \n",
       "4     Self-employed           Rural         174.12  24.0     never smoked   \n",
       "...             ...             ...            ...   ...              ...   \n",
       "5105        Private           Urban          83.75   NaN     never smoked   \n",
       "5106  Self-employed           Urban         125.20  40.0     never smoked   \n",
       "5107  Self-employed           Rural          82.99  30.6     never smoked   \n",
       "5108        Private           Rural         166.29  25.6  formerly smoked   \n",
       "5109       Govt_job           Urban          85.28  26.2          Unknown   \n",
       "\n",
       "      Derrame_Cerebral  \n",
       "0                    1  \n",
       "1                    1  \n",
       "2                    1  \n",
       "3                    1  \n",
       "4                    1  \n",
       "...                ...  \n",
       "5105                 0  \n",
       "5106                 0  \n",
       "5107                 0  \n",
       "5108                 0  \n",
       "5109                 0  \n",
       "\n",
       "[5110 rows x 12 columns]"
      ]
     },
     "execution_count": 5,
     "metadata": {},
     "output_type": "execute_result"
    }
   ],
   "source": [
    "dff.rename(columns = {'id':'ID'}, inplace=True)\n",
    "dff.rename(columns = {'gender':'Genero'}, inplace=True)\n",
    "dff.rename(columns = {'age':'Edad'}, inplace=True)\n",
    "dff.rename(columns = {'hypertension':'Hipertension'}, inplace=True)\n",
    "dff.rename(columns = {'heart_disease':'Enfermedad_Corazon'}, inplace=True)\n",
    "dff.rename(columns = {'ever_married':'Edo_Civil'}, inplace=True)\n",
    "dff.rename(columns = {'work_type':'Tipo_Trabajo'}, inplace=True)\n",
    "dff.rename(columns = {'Residence_type':'Tipo_Residencia'}, inplace=True)\n",
    "dff.rename(columns = {'avg_glucose_level':'Nivel_Glucosa'}, inplace=True)\n",
    "dff.rename(columns = {'bmi':'BMI'}, inplace=True)\n",
    "dff.rename(columns = {'smoking_status':'Consumo_Tabaco'}, inplace=True)\n",
    "dff.rename(columns = {'stroke':'Derrame_Cerebral'}, inplace=True)\n",
    "dff"
   ]
  },
  {
   "cell_type": "code",
   "execution_count": 6,
   "metadata": {
    "scrolled": false
   },
   "outputs": [
    {
     "data": {
      "text/html": [
       "<div>\n",
       "<style scoped>\n",
       "    .dataframe tbody tr th:only-of-type {\n",
       "        vertical-align: middle;\n",
       "    }\n",
       "\n",
       "    .dataframe tbody tr th {\n",
       "        vertical-align: top;\n",
       "    }\n",
       "\n",
       "    .dataframe thead th {\n",
       "        text-align: right;\n",
       "    }\n",
       "</style>\n",
       "<table border=\"1\" class=\"dataframe\">\n",
       "  <thead>\n",
       "    <tr style=\"text-align: right;\">\n",
       "      <th></th>\n",
       "      <th>Genero</th>\n",
       "      <th>Edad</th>\n",
       "      <th>Hipertension</th>\n",
       "      <th>Enfermedad_Corazon</th>\n",
       "      <th>Edo_Civil</th>\n",
       "      <th>Tipo_Trabajo</th>\n",
       "      <th>Tipo_Residencia</th>\n",
       "      <th>Nivel_Glucosa</th>\n",
       "      <th>BMI</th>\n",
       "      <th>Consumo_Tabaco</th>\n",
       "      <th>Derrame_Cerebral</th>\n",
       "    </tr>\n",
       "  </thead>\n",
       "  <tbody>\n",
       "    <tr>\n",
       "      <th>0</th>\n",
       "      <td>Male</td>\n",
       "      <td>67.0</td>\n",
       "      <td>0</td>\n",
       "      <td>1</td>\n",
       "      <td>Yes</td>\n",
       "      <td>Private</td>\n",
       "      <td>Urban</td>\n",
       "      <td>228.69</td>\n",
       "      <td>36.6</td>\n",
       "      <td>formerly smoked</td>\n",
       "      <td>1</td>\n",
       "    </tr>\n",
       "    <tr>\n",
       "      <th>1</th>\n",
       "      <td>Female</td>\n",
       "      <td>61.0</td>\n",
       "      <td>0</td>\n",
       "      <td>0</td>\n",
       "      <td>Yes</td>\n",
       "      <td>Self-employed</td>\n",
       "      <td>Rural</td>\n",
       "      <td>202.21</td>\n",
       "      <td>NaN</td>\n",
       "      <td>never smoked</td>\n",
       "      <td>1</td>\n",
       "    </tr>\n",
       "    <tr>\n",
       "      <th>2</th>\n",
       "      <td>Male</td>\n",
       "      <td>80.0</td>\n",
       "      <td>0</td>\n",
       "      <td>1</td>\n",
       "      <td>Yes</td>\n",
       "      <td>Private</td>\n",
       "      <td>Rural</td>\n",
       "      <td>105.92</td>\n",
       "      <td>32.5</td>\n",
       "      <td>never smoked</td>\n",
       "      <td>1</td>\n",
       "    </tr>\n",
       "    <tr>\n",
       "      <th>3</th>\n",
       "      <td>Female</td>\n",
       "      <td>49.0</td>\n",
       "      <td>0</td>\n",
       "      <td>0</td>\n",
       "      <td>Yes</td>\n",
       "      <td>Private</td>\n",
       "      <td>Urban</td>\n",
       "      <td>171.23</td>\n",
       "      <td>34.4</td>\n",
       "      <td>smokes</td>\n",
       "      <td>1</td>\n",
       "    </tr>\n",
       "    <tr>\n",
       "      <th>4</th>\n",
       "      <td>Female</td>\n",
       "      <td>79.0</td>\n",
       "      <td>1</td>\n",
       "      <td>0</td>\n",
       "      <td>Yes</td>\n",
       "      <td>Self-employed</td>\n",
       "      <td>Rural</td>\n",
       "      <td>174.12</td>\n",
       "      <td>24.0</td>\n",
       "      <td>never smoked</td>\n",
       "      <td>1</td>\n",
       "    </tr>\n",
       "    <tr>\n",
       "      <th>...</th>\n",
       "      <td>...</td>\n",
       "      <td>...</td>\n",
       "      <td>...</td>\n",
       "      <td>...</td>\n",
       "      <td>...</td>\n",
       "      <td>...</td>\n",
       "      <td>...</td>\n",
       "      <td>...</td>\n",
       "      <td>...</td>\n",
       "      <td>...</td>\n",
       "      <td>...</td>\n",
       "    </tr>\n",
       "    <tr>\n",
       "      <th>5105</th>\n",
       "      <td>Female</td>\n",
       "      <td>80.0</td>\n",
       "      <td>1</td>\n",
       "      <td>0</td>\n",
       "      <td>Yes</td>\n",
       "      <td>Private</td>\n",
       "      <td>Urban</td>\n",
       "      <td>83.75</td>\n",
       "      <td>NaN</td>\n",
       "      <td>never smoked</td>\n",
       "      <td>0</td>\n",
       "    </tr>\n",
       "    <tr>\n",
       "      <th>5106</th>\n",
       "      <td>Female</td>\n",
       "      <td>81.0</td>\n",
       "      <td>0</td>\n",
       "      <td>0</td>\n",
       "      <td>Yes</td>\n",
       "      <td>Self-employed</td>\n",
       "      <td>Urban</td>\n",
       "      <td>125.20</td>\n",
       "      <td>40.0</td>\n",
       "      <td>never smoked</td>\n",
       "      <td>0</td>\n",
       "    </tr>\n",
       "    <tr>\n",
       "      <th>5107</th>\n",
       "      <td>Female</td>\n",
       "      <td>35.0</td>\n",
       "      <td>0</td>\n",
       "      <td>0</td>\n",
       "      <td>Yes</td>\n",
       "      <td>Self-employed</td>\n",
       "      <td>Rural</td>\n",
       "      <td>82.99</td>\n",
       "      <td>30.6</td>\n",
       "      <td>never smoked</td>\n",
       "      <td>0</td>\n",
       "    </tr>\n",
       "    <tr>\n",
       "      <th>5108</th>\n",
       "      <td>Male</td>\n",
       "      <td>51.0</td>\n",
       "      <td>0</td>\n",
       "      <td>0</td>\n",
       "      <td>Yes</td>\n",
       "      <td>Private</td>\n",
       "      <td>Rural</td>\n",
       "      <td>166.29</td>\n",
       "      <td>25.6</td>\n",
       "      <td>formerly smoked</td>\n",
       "      <td>0</td>\n",
       "    </tr>\n",
       "    <tr>\n",
       "      <th>5109</th>\n",
       "      <td>Female</td>\n",
       "      <td>44.0</td>\n",
       "      <td>0</td>\n",
       "      <td>0</td>\n",
       "      <td>Yes</td>\n",
       "      <td>Govt_job</td>\n",
       "      <td>Urban</td>\n",
       "      <td>85.28</td>\n",
       "      <td>26.2</td>\n",
       "      <td>Unknown</td>\n",
       "      <td>0</td>\n",
       "    </tr>\n",
       "  </tbody>\n",
       "</table>\n",
       "<p>5110 rows × 11 columns</p>\n",
       "</div>"
      ],
      "text/plain": [
       "      Genero  Edad  Hipertension  Enfermedad_Corazon Edo_Civil   Tipo_Trabajo  \\\n",
       "0       Male  67.0             0                   1       Yes        Private   \n",
       "1     Female  61.0             0                   0       Yes  Self-employed   \n",
       "2       Male  80.0             0                   1       Yes        Private   \n",
       "3     Female  49.0             0                   0       Yes        Private   \n",
       "4     Female  79.0             1                   0       Yes  Self-employed   \n",
       "...      ...   ...           ...                 ...       ...            ...   \n",
       "5105  Female  80.0             1                   0       Yes        Private   \n",
       "5106  Female  81.0             0                   0       Yes  Self-employed   \n",
       "5107  Female  35.0             0                   0       Yes  Self-employed   \n",
       "5108    Male  51.0             0                   0       Yes        Private   \n",
       "5109  Female  44.0             0                   0       Yes       Govt_job   \n",
       "\n",
       "     Tipo_Residencia  Nivel_Glucosa   BMI   Consumo_Tabaco  Derrame_Cerebral  \n",
       "0              Urban         228.69  36.6  formerly smoked                 1  \n",
       "1              Rural         202.21   NaN     never smoked                 1  \n",
       "2              Rural         105.92  32.5     never smoked                 1  \n",
       "3              Urban         171.23  34.4           smokes                 1  \n",
       "4              Rural         174.12  24.0     never smoked                 1  \n",
       "...              ...            ...   ...              ...               ...  \n",
       "5105           Urban          83.75   NaN     never smoked                 0  \n",
       "5106           Urban         125.20  40.0     never smoked                 0  \n",
       "5107           Rural          82.99  30.6     never smoked                 0  \n",
       "5108           Rural         166.29  25.6  formerly smoked                 0  \n",
       "5109           Urban          85.28  26.2          Unknown                 0  \n",
       "\n",
       "[5110 rows x 11 columns]"
      ]
     },
     "execution_count": 6,
     "metadata": {},
     "output_type": "execute_result"
    }
   ],
   "source": [
    "dff = dff.drop(dff.columns[[0]], axis='columns')\n",
    "dff"
   ]
  },
  {
   "cell_type": "code",
   "execution_count": 7,
   "metadata": {},
   "outputs": [
    {
     "data": {
      "text/plain": [
       "Genero                False\n",
       "Edad                  False\n",
       "Hipertension          False\n",
       "Enfermedad_Corazon    False\n",
       "Edo_Civil             False\n",
       "Tipo_Trabajo          False\n",
       "Tipo_Residencia       False\n",
       "Nivel_Glucosa         False\n",
       "BMI                    True\n",
       "Consumo_Tabaco        False\n",
       "Derrame_Cerebral      False\n",
       "dtype: bool"
      ]
     },
     "execution_count": 7,
     "metadata": {},
     "output_type": "execute_result"
    }
   ],
   "source": [
    "dff.isnull().any()"
   ]
  },
  {
   "cell_type": "code",
   "execution_count": 8,
   "metadata": {},
   "outputs": [
    {
     "data": {
      "text/plain": [
       "Genero                  0\n",
       "Edad                    0\n",
       "Hipertension            0\n",
       "Enfermedad_Corazon      0\n",
       "Edo_Civil               0\n",
       "Tipo_Trabajo            0\n",
       "Tipo_Residencia         0\n",
       "Nivel_Glucosa           0\n",
       "BMI                   201\n",
       "Consumo_Tabaco          0\n",
       "Derrame_Cerebral        0\n",
       "dtype: int64"
      ]
     },
     "execution_count": 8,
     "metadata": {},
     "output_type": "execute_result"
    }
   ],
   "source": [
    "dff.isnull().sum()"
   ]
  },
  {
   "cell_type": "code",
   "execution_count": 9,
   "metadata": {
    "scrolled": true
   },
   "outputs": [
    {
     "data": {
      "text/plain": [
       "Genero                 object\n",
       "Edad                  float64\n",
       "Hipertension            int64\n",
       "Enfermedad_Corazon      int64\n",
       "Edo_Civil              object\n",
       "Tipo_Trabajo           object\n",
       "Tipo_Residencia        object\n",
       "Nivel_Glucosa         float64\n",
       "BMI                   float64\n",
       "Consumo_Tabaco         object\n",
       "Derrame_Cerebral        int64\n",
       "dtype: object"
      ]
     },
     "execution_count": 9,
     "metadata": {},
     "output_type": "execute_result"
    }
   ],
   "source": [
    "dff.dtypes"
   ]
  },
  {
   "cell_type": "code",
   "execution_count": 10,
   "metadata": {},
   "outputs": [
    {
     "data": {
      "text/html": [
       "<div>\n",
       "<style scoped>\n",
       "    .dataframe tbody tr th:only-of-type {\n",
       "        vertical-align: middle;\n",
       "    }\n",
       "\n",
       "    .dataframe tbody tr th {\n",
       "        vertical-align: top;\n",
       "    }\n",
       "\n",
       "    .dataframe thead th {\n",
       "        text-align: right;\n",
       "    }\n",
       "</style>\n",
       "<table border=\"1\" class=\"dataframe\">\n",
       "  <thead>\n",
       "    <tr style=\"text-align: right;\">\n",
       "      <th></th>\n",
       "      <th>Genero</th>\n",
       "      <th>Edad</th>\n",
       "      <th>Hipertension</th>\n",
       "      <th>Enfermedad_Corazon</th>\n",
       "      <th>Edo_Civil</th>\n",
       "      <th>Tipo_Trabajo</th>\n",
       "      <th>Tipo_Residencia</th>\n",
       "      <th>Nivel_Glucosa</th>\n",
       "      <th>BMI</th>\n",
       "      <th>Consumo_Tabaco</th>\n",
       "      <th>Derrame_Cerebral</th>\n",
       "    </tr>\n",
       "  </thead>\n",
       "  <tbody>\n",
       "    <tr>\n",
       "      <th>0</th>\n",
       "      <td>Male</td>\n",
       "      <td>67.0</td>\n",
       "      <td>0</td>\n",
       "      <td>1</td>\n",
       "      <td>Yes</td>\n",
       "      <td>Private</td>\n",
       "      <td>Urban</td>\n",
       "      <td>228.69</td>\n",
       "      <td>36.6</td>\n",
       "      <td>formerly smoked</td>\n",
       "      <td>1</td>\n",
       "    </tr>\n",
       "    <tr>\n",
       "      <th>2</th>\n",
       "      <td>Male</td>\n",
       "      <td>80.0</td>\n",
       "      <td>0</td>\n",
       "      <td>1</td>\n",
       "      <td>Yes</td>\n",
       "      <td>Private</td>\n",
       "      <td>Rural</td>\n",
       "      <td>105.92</td>\n",
       "      <td>32.5</td>\n",
       "      <td>never smoked</td>\n",
       "      <td>1</td>\n",
       "    </tr>\n",
       "    <tr>\n",
       "      <th>3</th>\n",
       "      <td>Female</td>\n",
       "      <td>49.0</td>\n",
       "      <td>0</td>\n",
       "      <td>0</td>\n",
       "      <td>Yes</td>\n",
       "      <td>Private</td>\n",
       "      <td>Urban</td>\n",
       "      <td>171.23</td>\n",
       "      <td>34.4</td>\n",
       "      <td>smokes</td>\n",
       "      <td>1</td>\n",
       "    </tr>\n",
       "    <tr>\n",
       "      <th>4</th>\n",
       "      <td>Female</td>\n",
       "      <td>79.0</td>\n",
       "      <td>1</td>\n",
       "      <td>0</td>\n",
       "      <td>Yes</td>\n",
       "      <td>Self-employed</td>\n",
       "      <td>Rural</td>\n",
       "      <td>174.12</td>\n",
       "      <td>24.0</td>\n",
       "      <td>never smoked</td>\n",
       "      <td>1</td>\n",
       "    </tr>\n",
       "    <tr>\n",
       "      <th>5</th>\n",
       "      <td>Male</td>\n",
       "      <td>81.0</td>\n",
       "      <td>0</td>\n",
       "      <td>0</td>\n",
       "      <td>Yes</td>\n",
       "      <td>Private</td>\n",
       "      <td>Urban</td>\n",
       "      <td>186.21</td>\n",
       "      <td>29.0</td>\n",
       "      <td>formerly smoked</td>\n",
       "      <td>1</td>\n",
       "    </tr>\n",
       "    <tr>\n",
       "      <th>...</th>\n",
       "      <td>...</td>\n",
       "      <td>...</td>\n",
       "      <td>...</td>\n",
       "      <td>...</td>\n",
       "      <td>...</td>\n",
       "      <td>...</td>\n",
       "      <td>...</td>\n",
       "      <td>...</td>\n",
       "      <td>...</td>\n",
       "      <td>...</td>\n",
       "      <td>...</td>\n",
       "    </tr>\n",
       "    <tr>\n",
       "      <th>5104</th>\n",
       "      <td>Female</td>\n",
       "      <td>13.0</td>\n",
       "      <td>0</td>\n",
       "      <td>0</td>\n",
       "      <td>No</td>\n",
       "      <td>children</td>\n",
       "      <td>Rural</td>\n",
       "      <td>103.08</td>\n",
       "      <td>18.6</td>\n",
       "      <td>Unknown</td>\n",
       "      <td>0</td>\n",
       "    </tr>\n",
       "    <tr>\n",
       "      <th>5106</th>\n",
       "      <td>Female</td>\n",
       "      <td>81.0</td>\n",
       "      <td>0</td>\n",
       "      <td>0</td>\n",
       "      <td>Yes</td>\n",
       "      <td>Self-employed</td>\n",
       "      <td>Urban</td>\n",
       "      <td>125.20</td>\n",
       "      <td>40.0</td>\n",
       "      <td>never smoked</td>\n",
       "      <td>0</td>\n",
       "    </tr>\n",
       "    <tr>\n",
       "      <th>5107</th>\n",
       "      <td>Female</td>\n",
       "      <td>35.0</td>\n",
       "      <td>0</td>\n",
       "      <td>0</td>\n",
       "      <td>Yes</td>\n",
       "      <td>Self-employed</td>\n",
       "      <td>Rural</td>\n",
       "      <td>82.99</td>\n",
       "      <td>30.6</td>\n",
       "      <td>never smoked</td>\n",
       "      <td>0</td>\n",
       "    </tr>\n",
       "    <tr>\n",
       "      <th>5108</th>\n",
       "      <td>Male</td>\n",
       "      <td>51.0</td>\n",
       "      <td>0</td>\n",
       "      <td>0</td>\n",
       "      <td>Yes</td>\n",
       "      <td>Private</td>\n",
       "      <td>Rural</td>\n",
       "      <td>166.29</td>\n",
       "      <td>25.6</td>\n",
       "      <td>formerly smoked</td>\n",
       "      <td>0</td>\n",
       "    </tr>\n",
       "    <tr>\n",
       "      <th>5109</th>\n",
       "      <td>Female</td>\n",
       "      <td>44.0</td>\n",
       "      <td>0</td>\n",
       "      <td>0</td>\n",
       "      <td>Yes</td>\n",
       "      <td>Govt_job</td>\n",
       "      <td>Urban</td>\n",
       "      <td>85.28</td>\n",
       "      <td>26.2</td>\n",
       "      <td>Unknown</td>\n",
       "      <td>0</td>\n",
       "    </tr>\n",
       "  </tbody>\n",
       "</table>\n",
       "<p>4909 rows × 11 columns</p>\n",
       "</div>"
      ],
      "text/plain": [
       "      Genero  Edad  Hipertension  Enfermedad_Corazon Edo_Civil   Tipo_Trabajo  \\\n",
       "0       Male  67.0             0                   1       Yes        Private   \n",
       "2       Male  80.0             0                   1       Yes        Private   \n",
       "3     Female  49.0             0                   0       Yes        Private   \n",
       "4     Female  79.0             1                   0       Yes  Self-employed   \n",
       "5       Male  81.0             0                   0       Yes        Private   \n",
       "...      ...   ...           ...                 ...       ...            ...   \n",
       "5104  Female  13.0             0                   0        No       children   \n",
       "5106  Female  81.0             0                   0       Yes  Self-employed   \n",
       "5107  Female  35.0             0                   0       Yes  Self-employed   \n",
       "5108    Male  51.0             0                   0       Yes        Private   \n",
       "5109  Female  44.0             0                   0       Yes       Govt_job   \n",
       "\n",
       "     Tipo_Residencia  Nivel_Glucosa   BMI   Consumo_Tabaco  Derrame_Cerebral  \n",
       "0              Urban         228.69  36.6  formerly smoked                 1  \n",
       "2              Rural         105.92  32.5     never smoked                 1  \n",
       "3              Urban         171.23  34.4           smokes                 1  \n",
       "4              Rural         174.12  24.0     never smoked                 1  \n",
       "5              Urban         186.21  29.0  formerly smoked                 1  \n",
       "...              ...            ...   ...              ...               ...  \n",
       "5104           Rural         103.08  18.6          Unknown                 0  \n",
       "5106           Urban         125.20  40.0     never smoked                 0  \n",
       "5107           Rural          82.99  30.6     never smoked                 0  \n",
       "5108           Rural         166.29  25.6  formerly smoked                 0  \n",
       "5109           Urban          85.28  26.2          Unknown                 0  \n",
       "\n",
       "[4909 rows x 11 columns]"
      ]
     },
     "execution_count": 10,
     "metadata": {},
     "output_type": "execute_result"
    }
   ],
   "source": [
    "dff.dropna()"
   ]
  },
  {
   "cell_type": "code",
   "execution_count": 11,
   "metadata": {},
   "outputs": [
    {
     "data": {
      "text/html": [
       "<div>\n",
       "<style scoped>\n",
       "    .dataframe tbody tr th:only-of-type {\n",
       "        vertical-align: middle;\n",
       "    }\n",
       "\n",
       "    .dataframe tbody tr th {\n",
       "        vertical-align: top;\n",
       "    }\n",
       "\n",
       "    .dataframe thead th {\n",
       "        text-align: right;\n",
       "    }\n",
       "</style>\n",
       "<table border=\"1\" class=\"dataframe\">\n",
       "  <thead>\n",
       "    <tr style=\"text-align: right;\">\n",
       "      <th></th>\n",
       "      <th>Genero</th>\n",
       "      <th>Edad</th>\n",
       "      <th>Derrame_Cerebral</th>\n",
       "      <th>Hipertension</th>\n",
       "      <th>Enfermedad_Corazon</th>\n",
       "      <th>Edo_Civil</th>\n",
       "      <th>Tipo_Trabajo</th>\n",
       "      <th>Nivel_Glucosa</th>\n",
       "      <th>BMI</th>\n",
       "      <th>Tipo_Trabajo</th>\n",
       "      <th>Consumo_Tabaco</th>\n",
       "    </tr>\n",
       "  </thead>\n",
       "  <tbody>\n",
       "    <tr>\n",
       "      <th>0</th>\n",
       "      <td>Male</td>\n",
       "      <td>67.0</td>\n",
       "      <td>1</td>\n",
       "      <td>0</td>\n",
       "      <td>1</td>\n",
       "      <td>Yes</td>\n",
       "      <td>Private</td>\n",
       "      <td>228.69</td>\n",
       "      <td>36.6</td>\n",
       "      <td>Private</td>\n",
       "      <td>formerly smoked</td>\n",
       "    </tr>\n",
       "    <tr>\n",
       "      <th>1</th>\n",
       "      <td>Female</td>\n",
       "      <td>61.0</td>\n",
       "      <td>1</td>\n",
       "      <td>0</td>\n",
       "      <td>0</td>\n",
       "      <td>Yes</td>\n",
       "      <td>Self-employed</td>\n",
       "      <td>202.21</td>\n",
       "      <td>NaN</td>\n",
       "      <td>Self-employed</td>\n",
       "      <td>never smoked</td>\n",
       "    </tr>\n",
       "    <tr>\n",
       "      <th>2</th>\n",
       "      <td>Male</td>\n",
       "      <td>80.0</td>\n",
       "      <td>1</td>\n",
       "      <td>0</td>\n",
       "      <td>1</td>\n",
       "      <td>Yes</td>\n",
       "      <td>Private</td>\n",
       "      <td>105.92</td>\n",
       "      <td>32.5</td>\n",
       "      <td>Private</td>\n",
       "      <td>never smoked</td>\n",
       "    </tr>\n",
       "    <tr>\n",
       "      <th>3</th>\n",
       "      <td>Female</td>\n",
       "      <td>49.0</td>\n",
       "      <td>1</td>\n",
       "      <td>0</td>\n",
       "      <td>0</td>\n",
       "      <td>Yes</td>\n",
       "      <td>Private</td>\n",
       "      <td>171.23</td>\n",
       "      <td>34.4</td>\n",
       "      <td>Private</td>\n",
       "      <td>smokes</td>\n",
       "    </tr>\n",
       "    <tr>\n",
       "      <th>4</th>\n",
       "      <td>Female</td>\n",
       "      <td>79.0</td>\n",
       "      <td>1</td>\n",
       "      <td>1</td>\n",
       "      <td>0</td>\n",
       "      <td>Yes</td>\n",
       "      <td>Self-employed</td>\n",
       "      <td>174.12</td>\n",
       "      <td>24.0</td>\n",
       "      <td>Self-employed</td>\n",
       "      <td>never smoked</td>\n",
       "    </tr>\n",
       "    <tr>\n",
       "      <th>...</th>\n",
       "      <td>...</td>\n",
       "      <td>...</td>\n",
       "      <td>...</td>\n",
       "      <td>...</td>\n",
       "      <td>...</td>\n",
       "      <td>...</td>\n",
       "      <td>...</td>\n",
       "      <td>...</td>\n",
       "      <td>...</td>\n",
       "      <td>...</td>\n",
       "      <td>...</td>\n",
       "    </tr>\n",
       "    <tr>\n",
       "      <th>5105</th>\n",
       "      <td>Female</td>\n",
       "      <td>80.0</td>\n",
       "      <td>0</td>\n",
       "      <td>1</td>\n",
       "      <td>0</td>\n",
       "      <td>Yes</td>\n",
       "      <td>Private</td>\n",
       "      <td>83.75</td>\n",
       "      <td>NaN</td>\n",
       "      <td>Private</td>\n",
       "      <td>never smoked</td>\n",
       "    </tr>\n",
       "    <tr>\n",
       "      <th>5106</th>\n",
       "      <td>Female</td>\n",
       "      <td>81.0</td>\n",
       "      <td>0</td>\n",
       "      <td>0</td>\n",
       "      <td>0</td>\n",
       "      <td>Yes</td>\n",
       "      <td>Self-employed</td>\n",
       "      <td>125.20</td>\n",
       "      <td>40.0</td>\n",
       "      <td>Self-employed</td>\n",
       "      <td>never smoked</td>\n",
       "    </tr>\n",
       "    <tr>\n",
       "      <th>5107</th>\n",
       "      <td>Female</td>\n",
       "      <td>35.0</td>\n",
       "      <td>0</td>\n",
       "      <td>0</td>\n",
       "      <td>0</td>\n",
       "      <td>Yes</td>\n",
       "      <td>Self-employed</td>\n",
       "      <td>82.99</td>\n",
       "      <td>30.6</td>\n",
       "      <td>Self-employed</td>\n",
       "      <td>never smoked</td>\n",
       "    </tr>\n",
       "    <tr>\n",
       "      <th>5108</th>\n",
       "      <td>Male</td>\n",
       "      <td>51.0</td>\n",
       "      <td>0</td>\n",
       "      <td>0</td>\n",
       "      <td>0</td>\n",
       "      <td>Yes</td>\n",
       "      <td>Private</td>\n",
       "      <td>166.29</td>\n",
       "      <td>25.6</td>\n",
       "      <td>Private</td>\n",
       "      <td>formerly smoked</td>\n",
       "    </tr>\n",
       "    <tr>\n",
       "      <th>5109</th>\n",
       "      <td>Female</td>\n",
       "      <td>44.0</td>\n",
       "      <td>0</td>\n",
       "      <td>0</td>\n",
       "      <td>0</td>\n",
       "      <td>Yes</td>\n",
       "      <td>Govt_job</td>\n",
       "      <td>85.28</td>\n",
       "      <td>26.2</td>\n",
       "      <td>Govt_job</td>\n",
       "      <td>Unknown</td>\n",
       "    </tr>\n",
       "  </tbody>\n",
       "</table>\n",
       "<p>5110 rows × 11 columns</p>\n",
       "</div>"
      ],
      "text/plain": [
       "      Genero  Edad  Derrame_Cerebral  Hipertension  Enfermedad_Corazon  \\\n",
       "0       Male  67.0                 1             0                   1   \n",
       "1     Female  61.0                 1             0                   0   \n",
       "2       Male  80.0                 1             0                   1   \n",
       "3     Female  49.0                 1             0                   0   \n",
       "4     Female  79.0                 1             1                   0   \n",
       "...      ...   ...               ...           ...                 ...   \n",
       "5105  Female  80.0                 0             1                   0   \n",
       "5106  Female  81.0                 0             0                   0   \n",
       "5107  Female  35.0                 0             0                   0   \n",
       "5108    Male  51.0                 0             0                   0   \n",
       "5109  Female  44.0                 0             0                   0   \n",
       "\n",
       "     Edo_Civil   Tipo_Trabajo  Nivel_Glucosa   BMI   Tipo_Trabajo  \\\n",
       "0          Yes        Private         228.69  36.6        Private   \n",
       "1          Yes  Self-employed         202.21   NaN  Self-employed   \n",
       "2          Yes        Private         105.92  32.5        Private   \n",
       "3          Yes        Private         171.23  34.4        Private   \n",
       "4          Yes  Self-employed         174.12  24.0  Self-employed   \n",
       "...        ...            ...            ...   ...            ...   \n",
       "5105       Yes        Private          83.75   NaN        Private   \n",
       "5106       Yes  Self-employed         125.20  40.0  Self-employed   \n",
       "5107       Yes  Self-employed          82.99  30.6  Self-employed   \n",
       "5108       Yes        Private         166.29  25.6        Private   \n",
       "5109       Yes       Govt_job          85.28  26.2       Govt_job   \n",
       "\n",
       "       Consumo_Tabaco  \n",
       "0     formerly smoked  \n",
       "1        never smoked  \n",
       "2        never smoked  \n",
       "3              smokes  \n",
       "4        never smoked  \n",
       "...               ...  \n",
       "5105     never smoked  \n",
       "5106     never smoked  \n",
       "5107     never smoked  \n",
       "5108  formerly smoked  \n",
       "5109          Unknown  \n",
       "\n",
       "[5110 rows x 11 columns]"
      ]
     },
     "execution_count": 11,
     "metadata": {},
     "output_type": "execute_result"
    }
   ],
   "source": [
    "dff = dff.reindex(columns = ['Genero', 'Edad', 'Derrame_Cerebral', 'Hipertension', 'Enfermedad_Corazon', 'Edo_Civil','Tipo_Trabajo', 'Nivel_Glucosa', 'BMI', 'Tipo_Trabajo', 'Consumo_Tabaco'])\n",
    "dff"
   ]
  },
  {
   "cell_type": "code",
   "execution_count": 12,
   "metadata": {},
   "outputs": [],
   "source": [
    "dff.to_csv(\"C:/Users/rbote/OneDrive/Documents/FCFM/6 SEM/MINERIA/predicción_derrame_cerebral_BD.csv\")"
   ]
  },
  {
   "cell_type": "markdown",
   "metadata": {},
   "source": [
    "Se quito la columna de ID ya que no afecta de ningún modo el estudio de esta base de datos. Cambiamos el nombre de las columnas al idioma español para un mejor entendimiento de los datos y se acomodaron de manera que nos parecio más adecuado de la base de datos."
   ]
  },
  {
   "cell_type": "code",
   "execution_count": 13,
   "metadata": {
    "scrolled": false
   },
   "outputs": [
    {
     "data": {
      "text/html": [
       "<div>\n",
       "<style scoped>\n",
       "    .dataframe tbody tr th:only-of-type {\n",
       "        vertical-align: middle;\n",
       "    }\n",
       "\n",
       "    .dataframe tbody tr th {\n",
       "        vertical-align: top;\n",
       "    }\n",
       "\n",
       "    .dataframe thead th {\n",
       "        text-align: right;\n",
       "    }\n",
       "</style>\n",
       "<table border=\"1\" class=\"dataframe\">\n",
       "  <thead>\n",
       "    <tr style=\"text-align: right;\">\n",
       "      <th></th>\n",
       "      <th>Unnamed: 0</th>\n",
       "      <th>Genero</th>\n",
       "      <th>Edad</th>\n",
       "      <th>Derrame_Cerebral</th>\n",
       "      <th>Hipertension</th>\n",
       "      <th>Enfermedad_Corazon</th>\n",
       "      <th>Edo_Civil</th>\n",
       "      <th>Tipo_Trabajo</th>\n",
       "      <th>Nivel_Glucosa</th>\n",
       "      <th>BMI</th>\n",
       "      <th>Tipo_Trabajo.1</th>\n",
       "      <th>Consumo_Tabaco</th>\n",
       "    </tr>\n",
       "  </thead>\n",
       "  <tbody>\n",
       "    <tr>\n",
       "      <th>0</th>\n",
       "      <td>0</td>\n",
       "      <td>Male</td>\n",
       "      <td>67.0</td>\n",
       "      <td>1</td>\n",
       "      <td>0</td>\n",
       "      <td>1</td>\n",
       "      <td>Yes</td>\n",
       "      <td>Private</td>\n",
       "      <td>228.69</td>\n",
       "      <td>36.6</td>\n",
       "      <td>Private</td>\n",
       "      <td>formerly smoked</td>\n",
       "    </tr>\n",
       "    <tr>\n",
       "      <th>1</th>\n",
       "      <td>1</td>\n",
       "      <td>Female</td>\n",
       "      <td>61.0</td>\n",
       "      <td>1</td>\n",
       "      <td>0</td>\n",
       "      <td>0</td>\n",
       "      <td>Yes</td>\n",
       "      <td>Self-employed</td>\n",
       "      <td>202.21</td>\n",
       "      <td>NaN</td>\n",
       "      <td>Self-employed</td>\n",
       "      <td>never smoked</td>\n",
       "    </tr>\n",
       "    <tr>\n",
       "      <th>2</th>\n",
       "      <td>2</td>\n",
       "      <td>Male</td>\n",
       "      <td>80.0</td>\n",
       "      <td>1</td>\n",
       "      <td>0</td>\n",
       "      <td>1</td>\n",
       "      <td>Yes</td>\n",
       "      <td>Private</td>\n",
       "      <td>105.92</td>\n",
       "      <td>32.5</td>\n",
       "      <td>Private</td>\n",
       "      <td>never smoked</td>\n",
       "    </tr>\n",
       "  </tbody>\n",
       "</table>\n",
       "</div>"
      ],
      "text/plain": [
       "   Unnamed: 0  Genero  Edad  Derrame_Cerebral  Hipertension  \\\n",
       "0           0    Male  67.0                 1             0   \n",
       "1           1  Female  61.0                 1             0   \n",
       "2           2    Male  80.0                 1             0   \n",
       "\n",
       "   Enfermedad_Corazon Edo_Civil   Tipo_Trabajo  Nivel_Glucosa   BMI  \\\n",
       "0                   1       Yes        Private         228.69  36.6   \n",
       "1                   0       Yes  Self-employed         202.21   NaN   \n",
       "2                   1       Yes        Private         105.92  32.5   \n",
       "\n",
       "  Tipo_Trabajo.1   Consumo_Tabaco  \n",
       "0        Private  formerly smoked  \n",
       "1  Self-employed     never smoked  \n",
       "2        Private     never smoked  "
      ]
     },
     "execution_count": 13,
     "metadata": {},
     "output_type": "execute_result"
    }
   ],
   "source": [
    "df = pd.read_csv(\"C:/Users/rbote/OneDrive/Documents/FCFM/6 SEM/MINERIA/predicción_derrame_cerebral_BD.csv\", encoding='utf8')\n",
    "df.head(3)"
   ]
  },
  {
   "cell_type": "code",
   "execution_count": 14,
   "metadata": {},
   "outputs": [
    {
     "data": {
      "text/html": [
       "<div>\n",
       "<style scoped>\n",
       "    .dataframe tbody tr th:only-of-type {\n",
       "        vertical-align: middle;\n",
       "    }\n",
       "\n",
       "    .dataframe tbody tr th {\n",
       "        vertical-align: top;\n",
       "    }\n",
       "\n",
       "    .dataframe thead th {\n",
       "        text-align: right;\n",
       "    }\n",
       "</style>\n",
       "<table border=\"1\" class=\"dataframe\">\n",
       "  <thead>\n",
       "    <tr style=\"text-align: right;\">\n",
       "      <th></th>\n",
       "      <th>Genero</th>\n",
       "      <th>Edad</th>\n",
       "      <th>Derrame_Cerebral</th>\n",
       "      <th>Hipertension</th>\n",
       "      <th>Enfermedad_Corazon</th>\n",
       "      <th>Edo_Civil</th>\n",
       "      <th>Tipo_Trabajo</th>\n",
       "      <th>Nivel_Glucosa</th>\n",
       "      <th>BMI</th>\n",
       "      <th>Consumo_Tabaco</th>\n",
       "    </tr>\n",
       "  </thead>\n",
       "  <tbody>\n",
       "    <tr>\n",
       "      <th>0</th>\n",
       "      <td>Male</td>\n",
       "      <td>67.0</td>\n",
       "      <td>1</td>\n",
       "      <td>0</td>\n",
       "      <td>1</td>\n",
       "      <td>Yes</td>\n",
       "      <td>Private</td>\n",
       "      <td>228.69</td>\n",
       "      <td>36.6</td>\n",
       "      <td>formerly smoked</td>\n",
       "    </tr>\n",
       "    <tr>\n",
       "      <th>1</th>\n",
       "      <td>Female</td>\n",
       "      <td>61.0</td>\n",
       "      <td>1</td>\n",
       "      <td>0</td>\n",
       "      <td>0</td>\n",
       "      <td>Yes</td>\n",
       "      <td>Self-employed</td>\n",
       "      <td>202.21</td>\n",
       "      <td>NaN</td>\n",
       "      <td>never smoked</td>\n",
       "    </tr>\n",
       "    <tr>\n",
       "      <th>2</th>\n",
       "      <td>Male</td>\n",
       "      <td>80.0</td>\n",
       "      <td>1</td>\n",
       "      <td>0</td>\n",
       "      <td>1</td>\n",
       "      <td>Yes</td>\n",
       "      <td>Private</td>\n",
       "      <td>105.92</td>\n",
       "      <td>32.5</td>\n",
       "      <td>never smoked</td>\n",
       "    </tr>\n",
       "  </tbody>\n",
       "</table>\n",
       "</div>"
      ],
      "text/plain": [
       "   Genero  Edad  Derrame_Cerebral  Hipertension  Enfermedad_Corazon Edo_Civil  \\\n",
       "0    Male  67.0                 1             0                   1       Yes   \n",
       "1  Female  61.0                 1             0                   0       Yes   \n",
       "2    Male  80.0                 1             0                   1       Yes   \n",
       "\n",
       "    Tipo_Trabajo  Nivel_Glucosa   BMI   Consumo_Tabaco  \n",
       "0        Private         228.69  36.6  formerly smoked  \n",
       "1  Self-employed         202.21   NaN     never smoked  \n",
       "2        Private         105.92  32.5     never smoked  "
      ]
     },
     "execution_count": 14,
     "metadata": {},
     "output_type": "execute_result"
    }
   ],
   "source": [
    "df = df.drop(df.columns[[0, 10]], axis='columns')\n",
    "df.head(3)"
   ]
  },
  {
   "cell_type": "code",
   "execution_count": 15,
   "metadata": {},
   "outputs": [],
   "source": [
    "df.to_csv(\"C:/Users/rbote/OneDrive/Documents/FCFM/6 SEM/MINERIA/derrames.csv\")"
   ]
  },
  {
   "cell_type": "markdown",
   "metadata": {},
   "source": [
    "**Estadística Avanzada**"
   ]
  },
  {
   "cell_type": "code",
   "execution_count": 16,
   "metadata": {},
   "outputs": [
    {
     "data": {
      "text/html": [
       "<div>\n",
       "<style scoped>\n",
       "    .dataframe tbody tr th:only-of-type {\n",
       "        vertical-align: middle;\n",
       "    }\n",
       "\n",
       "    .dataframe tbody tr th {\n",
       "        vertical-align: top;\n",
       "    }\n",
       "\n",
       "    .dataframe thead th {\n",
       "        text-align: right;\n",
       "    }\n",
       "</style>\n",
       "<table border=\"1\" class=\"dataframe\">\n",
       "  <thead>\n",
       "    <tr style=\"text-align: right;\">\n",
       "      <th></th>\n",
       "      <th>Genero</th>\n",
       "      <th>Edad</th>\n",
       "      <th>Derrame_Cerebral</th>\n",
       "      <th>Hipertension</th>\n",
       "      <th>Enfermedad_Corazon</th>\n",
       "      <th>Edo_Civil</th>\n",
       "      <th>Tipo_Trabajo</th>\n",
       "      <th>Nivel_Glucosa</th>\n",
       "      <th>BMI</th>\n",
       "      <th>Consumo_Tabaco</th>\n",
       "    </tr>\n",
       "  </thead>\n",
       "  <tbody>\n",
       "    <tr>\n",
       "      <th>0</th>\n",
       "      <td>Male</td>\n",
       "      <td>67.0</td>\n",
       "      <td>1</td>\n",
       "      <td>0</td>\n",
       "      <td>1</td>\n",
       "      <td>Yes</td>\n",
       "      <td>Private</td>\n",
       "      <td>228.69</td>\n",
       "      <td>36.6</td>\n",
       "      <td>formerly smoked</td>\n",
       "    </tr>\n",
       "    <tr>\n",
       "      <th>1</th>\n",
       "      <td>Female</td>\n",
       "      <td>61.0</td>\n",
       "      <td>1</td>\n",
       "      <td>0</td>\n",
       "      <td>0</td>\n",
       "      <td>Yes</td>\n",
       "      <td>Self-employed</td>\n",
       "      <td>202.21</td>\n",
       "      <td>NaN</td>\n",
       "      <td>never smoked</td>\n",
       "    </tr>\n",
       "    <tr>\n",
       "      <th>2</th>\n",
       "      <td>Male</td>\n",
       "      <td>80.0</td>\n",
       "      <td>1</td>\n",
       "      <td>0</td>\n",
       "      <td>1</td>\n",
       "      <td>Yes</td>\n",
       "      <td>Private</td>\n",
       "      <td>105.92</td>\n",
       "      <td>32.5</td>\n",
       "      <td>never smoked</td>\n",
       "    </tr>\n",
       "  </tbody>\n",
       "</table>\n",
       "</div>"
      ],
      "text/plain": [
       "   Genero  Edad  Derrame_Cerebral  Hipertension  Enfermedad_Corazon Edo_Civil  \\\n",
       "0    Male  67.0                 1             0                   1       Yes   \n",
       "1  Female  61.0                 1             0                   0       Yes   \n",
       "2    Male  80.0                 1             0                   1       Yes   \n",
       "\n",
       "    Tipo_Trabajo  Nivel_Glucosa   BMI   Consumo_Tabaco  \n",
       "0        Private         228.69  36.6  formerly smoked  \n",
       "1  Self-employed         202.21   NaN     never smoked  \n",
       "2        Private         105.92  32.5     never smoked  "
      ]
     },
     "execution_count": 16,
     "metadata": {},
     "output_type": "execute_result"
    }
   ],
   "source": [
    "df_derrame= df[df['Derrame_Cerebral'] == 1]\n",
    "df_derrame.head(3)"
   ]
  },
  {
   "cell_type": "code",
   "execution_count": 17,
   "metadata": {},
   "outputs": [
    {
     "data": {
      "text/html": [
       "<div>\n",
       "<style scoped>\n",
       "    .dataframe tbody tr th:only-of-type {\n",
       "        vertical-align: middle;\n",
       "    }\n",
       "\n",
       "    .dataframe tbody tr th {\n",
       "        vertical-align: top;\n",
       "    }\n",
       "\n",
       "    .dataframe thead th {\n",
       "        text-align: right;\n",
       "    }\n",
       "</style>\n",
       "<table border=\"1\" class=\"dataframe\">\n",
       "  <thead>\n",
       "    <tr style=\"text-align: right;\">\n",
       "      <th></th>\n",
       "      <th>Genero</th>\n",
       "      <th>Edad</th>\n",
       "      <th>Derrame_Cerebral</th>\n",
       "      <th>Hipertension</th>\n",
       "      <th>Enfermedad_Corazon</th>\n",
       "      <th>Edo_Civil</th>\n",
       "      <th>Tipo_Trabajo</th>\n",
       "      <th>Nivel_Glucosa</th>\n",
       "      <th>BMI</th>\n",
       "      <th>Consumo_Tabaco</th>\n",
       "    </tr>\n",
       "  </thead>\n",
       "  <tbody>\n",
       "    <tr>\n",
       "      <th>249</th>\n",
       "      <td>Male</td>\n",
       "      <td>3.0</td>\n",
       "      <td>0</td>\n",
       "      <td>0</td>\n",
       "      <td>0</td>\n",
       "      <td>No</td>\n",
       "      <td>children</td>\n",
       "      <td>95.12</td>\n",
       "      <td>18.0</td>\n",
       "      <td>Unknown</td>\n",
       "    </tr>\n",
       "    <tr>\n",
       "      <th>250</th>\n",
       "      <td>Male</td>\n",
       "      <td>58.0</td>\n",
       "      <td>0</td>\n",
       "      <td>1</td>\n",
       "      <td>0</td>\n",
       "      <td>Yes</td>\n",
       "      <td>Private</td>\n",
       "      <td>87.96</td>\n",
       "      <td>39.2</td>\n",
       "      <td>never smoked</td>\n",
       "    </tr>\n",
       "    <tr>\n",
       "      <th>251</th>\n",
       "      <td>Female</td>\n",
       "      <td>8.0</td>\n",
       "      <td>0</td>\n",
       "      <td>0</td>\n",
       "      <td>0</td>\n",
       "      <td>No</td>\n",
       "      <td>Private</td>\n",
       "      <td>110.89</td>\n",
       "      <td>17.6</td>\n",
       "      <td>Unknown</td>\n",
       "    </tr>\n",
       "  </tbody>\n",
       "</table>\n",
       "</div>"
      ],
      "text/plain": [
       "     Genero  Edad  Derrame_Cerebral  Hipertension  Enfermedad_Corazon  \\\n",
       "249    Male   3.0                 0             0                   0   \n",
       "250    Male  58.0                 0             1                   0   \n",
       "251  Female   8.0                 0             0                   0   \n",
       "\n",
       "    Edo_Civil Tipo_Trabajo  Nivel_Glucosa   BMI Consumo_Tabaco  \n",
       "249        No     children          95.12  18.0        Unknown  \n",
       "250       Yes      Private          87.96  39.2   never smoked  \n",
       "251        No      Private         110.89  17.6        Unknown  "
      ]
     },
     "execution_count": 17,
     "metadata": {},
     "output_type": "execute_result"
    }
   ],
   "source": [
    "df_no= df[df['Derrame_Cerebral'] == 0]\n",
    "df_no.head(3)"
   ]
  },
  {
   "cell_type": "code",
   "execution_count": 18,
   "metadata": {
    "scrolled": false
   },
   "outputs": [
    {
     "data": {
      "text/html": [
       "<div>\n",
       "<style scoped>\n",
       "    .dataframe tbody tr th:only-of-type {\n",
       "        vertical-align: middle;\n",
       "    }\n",
       "\n",
       "    .dataframe tbody tr th {\n",
       "        vertical-align: top;\n",
       "    }\n",
       "\n",
       "    .dataframe thead th {\n",
       "        text-align: right;\n",
       "    }\n",
       "</style>\n",
       "<table border=\"1\" class=\"dataframe\">\n",
       "  <thead>\n",
       "    <tr style=\"text-align: right;\">\n",
       "      <th></th>\n",
       "      <th>Genero</th>\n",
       "      <th>Edad</th>\n",
       "      <th>Derrame_Cerebral</th>\n",
       "      <th>Hipertension</th>\n",
       "      <th>Enfermedad_Corazon</th>\n",
       "      <th>Edo_Civil</th>\n",
       "      <th>Tipo_Trabajo</th>\n",
       "      <th>Nivel_Glucosa</th>\n",
       "      <th>BMI</th>\n",
       "      <th>Consumo_Tabaco</th>\n",
       "    </tr>\n",
       "  </thead>\n",
       "  <tbody>\n",
       "    <tr>\n",
       "      <th>4</th>\n",
       "      <td>Female</td>\n",
       "      <td>79.0</td>\n",
       "      <td>1</td>\n",
       "      <td>1</td>\n",
       "      <td>0</td>\n",
       "      <td>Yes</td>\n",
       "      <td>Self-employed</td>\n",
       "      <td>174.12</td>\n",
       "      <td>24.0</td>\n",
       "      <td>never smoked</td>\n",
       "    </tr>\n",
       "    <tr>\n",
       "      <th>6</th>\n",
       "      <td>Male</td>\n",
       "      <td>74.0</td>\n",
       "      <td>1</td>\n",
       "      <td>1</td>\n",
       "      <td>1</td>\n",
       "      <td>Yes</td>\n",
       "      <td>Private</td>\n",
       "      <td>70.09</td>\n",
       "      <td>27.4</td>\n",
       "      <td>never smoked</td>\n",
       "    </tr>\n",
       "    <tr>\n",
       "      <th>10</th>\n",
       "      <td>Female</td>\n",
       "      <td>81.0</td>\n",
       "      <td>1</td>\n",
       "      <td>1</td>\n",
       "      <td>0</td>\n",
       "      <td>Yes</td>\n",
       "      <td>Private</td>\n",
       "      <td>80.43</td>\n",
       "      <td>29.7</td>\n",
       "      <td>never smoked</td>\n",
       "    </tr>\n",
       "  </tbody>\n",
       "</table>\n",
       "</div>"
      ],
      "text/plain": [
       "    Genero  Edad  Derrame_Cerebral  Hipertension  Enfermedad_Corazon  \\\n",
       "4   Female  79.0                 1             1                   0   \n",
       "6     Male  74.0                 1             1                   1   \n",
       "10  Female  81.0                 1             1                   0   \n",
       "\n",
       "   Edo_Civil   Tipo_Trabajo  Nivel_Glucosa   BMI Consumo_Tabaco  \n",
       "4        Yes  Self-employed         174.12  24.0   never smoked  \n",
       "6        Yes        Private          70.09  27.4   never smoked  \n",
       "10       Yes        Private          80.43  29.7   never smoked  "
      ]
     },
     "execution_count": 18,
     "metadata": {},
     "output_type": "execute_result"
    }
   ],
   "source": [
    "df_hip= df_derrame[df_derrame['Hipertension'] == 1]\n",
    "df_hip.head(3)"
   ]
  },
  {
   "cell_type": "code",
   "execution_count": 19,
   "metadata": {},
   "outputs": [
    {
     "data": {
      "text/html": [
       "<div>\n",
       "<style scoped>\n",
       "    .dataframe tbody tr th:only-of-type {\n",
       "        vertical-align: middle;\n",
       "    }\n",
       "\n",
       "    .dataframe tbody tr th {\n",
       "        vertical-align: top;\n",
       "    }\n",
       "\n",
       "    .dataframe thead th {\n",
       "        text-align: right;\n",
       "    }\n",
       "</style>\n",
       "<table border=\"1\" class=\"dataframe\">\n",
       "  <thead>\n",
       "    <tr style=\"text-align: right;\">\n",
       "      <th></th>\n",
       "      <th>Genero</th>\n",
       "      <th>Edad</th>\n",
       "      <th>Derrame_Cerebral</th>\n",
       "      <th>Hipertension</th>\n",
       "      <th>Enfermedad_Corazon</th>\n",
       "      <th>Edo_Civil</th>\n",
       "      <th>Tipo_Trabajo</th>\n",
       "      <th>Nivel_Glucosa</th>\n",
       "      <th>BMI</th>\n",
       "      <th>Consumo_Tabaco</th>\n",
       "    </tr>\n",
       "  </thead>\n",
       "  <tbody>\n",
       "    <tr>\n",
       "      <th>0</th>\n",
       "      <td>Male</td>\n",
       "      <td>67.0</td>\n",
       "      <td>1</td>\n",
       "      <td>0</td>\n",
       "      <td>1</td>\n",
       "      <td>Yes</td>\n",
       "      <td>Private</td>\n",
       "      <td>228.69</td>\n",
       "      <td>36.6</td>\n",
       "      <td>formerly smoked</td>\n",
       "    </tr>\n",
       "    <tr>\n",
       "      <th>2</th>\n",
       "      <td>Male</td>\n",
       "      <td>80.0</td>\n",
       "      <td>1</td>\n",
       "      <td>0</td>\n",
       "      <td>1</td>\n",
       "      <td>Yes</td>\n",
       "      <td>Private</td>\n",
       "      <td>105.92</td>\n",
       "      <td>32.5</td>\n",
       "      <td>never smoked</td>\n",
       "    </tr>\n",
       "    <tr>\n",
       "      <th>6</th>\n",
       "      <td>Male</td>\n",
       "      <td>74.0</td>\n",
       "      <td>1</td>\n",
       "      <td>1</td>\n",
       "      <td>1</td>\n",
       "      <td>Yes</td>\n",
       "      <td>Private</td>\n",
       "      <td>70.09</td>\n",
       "      <td>27.4</td>\n",
       "      <td>never smoked</td>\n",
       "    </tr>\n",
       "  </tbody>\n",
       "</table>\n",
       "</div>"
      ],
      "text/plain": [
       "  Genero  Edad  Derrame_Cerebral  Hipertension  Enfermedad_Corazon Edo_Civil  \\\n",
       "0   Male  67.0                 1             0                   1       Yes   \n",
       "2   Male  80.0                 1             0                   1       Yes   \n",
       "6   Male  74.0                 1             1                   1       Yes   \n",
       "\n",
       "  Tipo_Trabajo  Nivel_Glucosa   BMI   Consumo_Tabaco  \n",
       "0      Private         228.69  36.6  formerly smoked  \n",
       "2      Private         105.92  32.5     never smoked  \n",
       "6      Private          70.09  27.4     never smoked  "
      ]
     },
     "execution_count": 19,
     "metadata": {},
     "output_type": "execute_result"
    }
   ],
   "source": [
    "df_cora= df_derrame[df_derrame['Enfermedad_Corazon'] == 1]\n",
    "df_cora.head(3)"
   ]
  },
  {
   "cell_type": "code",
   "execution_count": 20,
   "metadata": {},
   "outputs": [
    {
     "data": {
      "text/plain": [
       "249"
      ]
     },
     "execution_count": 20,
     "metadata": {},
     "output_type": "execute_result"
    }
   ],
   "source": [
    "df['Derrame_Cerebral'].sum()"
   ]
  },
  {
   "cell_type": "markdown",
   "metadata": {},
   "source": [
    "Esta cifra muestra el total de personas que han tenido un accidente cerebral, también conocido como derrame cerebral, a lo largo de su vida. Según la Organización Mundial de la Salud (OMS), el accidente cerebrovascular es la segunda causa principal de muerte a nivel mundial, responsable de aproximadamente el 11% del total de muertes. Del total de personas analizadas, 5109 personas, solo 249 han sufrido de un derrame cerebral."
   ]
  },
  {
   "cell_type": "code",
   "execution_count": 21,
   "metadata": {},
   "outputs": [
    {
     "data": {
      "text/plain": [
       "43.226614481409015"
      ]
     },
     "execution_count": 21,
     "metadata": {},
     "output_type": "execute_result"
    }
   ],
   "source": [
    "df['Edad'].mean()"
   ]
  },
  {
   "cell_type": "code",
   "execution_count": 22,
   "metadata": {},
   "outputs": [
    {
     "data": {
      "text/plain": [
       "67.72819277108434"
      ]
     },
     "execution_count": 22,
     "metadata": {},
     "output_type": "execute_result"
    }
   ],
   "source": [
    "df_derrame['Edad'].mean()"
   ]
  },
  {
   "cell_type": "markdown",
   "metadata": {},
   "source": [
    "El promedio de edad de las personas que participaron en esta investigación es de 43 años mientras que el promedio de edad de las personas que han sufrido algún accidente cerebrovascular es de 67 años. La diferencia de los promedios es de 24 años, lo que indica que las personas mayores son más probables a que sufran de un derrame cerebral."
   ]
  },
  {
   "cell_type": "code",
   "execution_count": 23,
   "metadata": {},
   "outputs": [
    {
     "data": {
      "text/plain": [
       "0         0\n",
       "1         0\n",
       "2         0\n",
       "3         0\n",
       "4         1\n",
       "       ... \n",
       "5105    498\n",
       "5106    498\n",
       "5107    498\n",
       "5108    498\n",
       "5109    498\n",
       "Name: Hipertension, Length: 5110, dtype: int64"
      ]
     },
     "execution_count": 23,
     "metadata": {},
     "output_type": "execute_result"
    }
   ],
   "source": [
    "df['Hipertension'].cumsum()"
   ]
  },
  {
   "cell_type": "markdown",
   "metadata": {},
   "source": [
    "El último número de la columna muestra la suma acumulada de la columna fila por fila. La columna de 'Hipertensión' contiene (0) si el paciente no tiene hipertensión y (1) si el paciente padece de hipertensión. Con esta información, podemos concluir que la suma acumulada de esta columna representa el número total de pacientes en la investigación que padecen de hipertensión."
   ]
  },
  {
   "cell_type": "code",
   "execution_count": 24,
   "metadata": {},
   "outputs": [
    {
     "data": {
      "text/plain": [
       "count    5110.000000\n",
       "mean       43.226614\n",
       "std        22.612647\n",
       "min         0.080000\n",
       "25%        25.000000\n",
       "50%        45.000000\n",
       "75%        61.000000\n",
       "max        82.000000\n",
       "Name: Edad, dtype: float64"
      ]
     },
     "execution_count": 24,
     "metadata": {},
     "output_type": "execute_result"
    }
   ],
   "source": [
    "df['Edad'].describe()"
   ]
  },
  {
   "cell_type": "markdown",
   "metadata": {},
   "source": [
    "Esta información nos presenta la descripción de los datos de la columna de Edad. Tenemos un total de 5110 datos, en este caso serían pacientes. La edad promedio es de 43.22 y tenemos una desviación estándar de 22.61 lo cual nos dice que la dispersión de los datos respecto a la media no es muy grande. La edad mínima que se presenta en la base de datos es de 0.08 años, mientras que la edad máxima es de 82 años. Esta información también nos presenta los cuartiles. El primer cuartil, 25%, se encuentra en la edad 25; el segundo cuartil, que también representa la edad mediana es de 45; el tercer cuartil, 75%, se encuentra en la edad 61. Como la media es menor a la mediana entonces tenemos una asimetría negativa, es decir los datos están sesgados a la izquierda. Finalmente, la columna ‘Edad’ tiene datos de tipo flotante."
   ]
  },
  {
   "cell_type": "code",
   "execution_count": 25,
   "metadata": {},
   "outputs": [
    {
     "data": {
      "text/plain": [
       "47"
      ]
     },
     "execution_count": 25,
     "metadata": {},
     "output_type": "execute_result"
    }
   ],
   "source": [
    "df_cora['Enfermedad_Corazon'].count()"
   ]
  },
  {
   "cell_type": "markdown",
   "metadata": {},
   "source": [
    "La función count da como resultado el total de elementos no nulos de la columna. Para encontrar el total de personas que padecen de alguna enfermedad del corazón, fitramos la columna 'Enfermedad_Corazon' para solo tener los datos de los pacientes que SI sufren de alguna enfermedad del corazón. \n",
    "\n",
    "De los 5110 pacientes, 276 padecen de alguna enfermedad del corazón. "
   ]
  },
  {
   "cell_type": "code",
   "execution_count": 26,
   "metadata": {},
   "outputs": [
    {
     "data": {
      "text/plain": [
       "1.32"
      ]
     },
     "execution_count": 26,
     "metadata": {},
     "output_type": "execute_result"
    }
   ],
   "source": [
    "df_derrame['Edad'].min()"
   ]
  },
  {
   "cell_type": "markdown",
   "metadata": {},
   "source": [
    "Este dato nos dice que la edad mínima que se encuentra dentro de la base de datos con unicamente los pacientes que han tenido un derrame cerebral es de 1.32 años."
   ]
  },
  {
   "cell_type": "code",
   "execution_count": 27,
   "metadata": {},
   "outputs": [
    {
     "data": {
      "text/plain": [
       "82.0"
      ]
     },
     "execution_count": 27,
     "metadata": {},
     "output_type": "execute_result"
    }
   ],
   "source": [
    "df_derrame['Edad'].max()"
   ]
  },
  {
   "cell_type": "markdown",
   "metadata": {},
   "source": [
    "Nos dice que la edad máxima dentro de la base de datos de pacientes que han tenido un derrame cerebral es de 82 años."
   ]
  },
  {
   "cell_type": "code",
   "execution_count": 28,
   "metadata": {},
   "outputs": [
    {
     "data": {
      "text/plain": [
       "91.88499999999999"
      ]
     },
     "execution_count": 28,
     "metadata": {},
     "output_type": "execute_result"
    }
   ],
   "source": [
    "df['Nivel_Glucosa'].median()"
   ]
  },
  {
   "cell_type": "markdown",
   "metadata": {},
   "source": [
    "Representa la mediana de los datos de la columna del Nivel de Glucosa. En este caso tenemos una mediana de 91.88 y esto al estar por debajo de 100 indica un nivel normal."
   ]
  },
  {
   "cell_type": "code",
   "execution_count": 29,
   "metadata": {},
   "outputs": [
    {
     "data": {
      "text/plain": [
       "2050.600819911381"
      ]
     },
     "execution_count": 29,
     "metadata": {},
     "output_type": "execute_result"
    }
   ],
   "source": [
    "df['Nivel_Glucosa'].var()"
   ]
  },
  {
   "cell_type": "markdown",
   "metadata": {},
   "source": [
    "Representa la varianza del nivel de glucosa de los pacientes. Al tener una varianza de 2050.6 nos indica que la variabilidad de los datos es mucha."
   ]
  },
  {
   "cell_type": "code",
   "execution_count": 30,
   "metadata": {},
   "outputs": [
    {
     "data": {
      "text/plain": [
       "45.28356015058203"
      ]
     },
     "execution_count": 30,
     "metadata": {},
     "output_type": "execute_result"
    }
   ],
   "source": [
    "df['Nivel_Glucosa'].std()"
   ]
  },
  {
   "cell_type": "markdown",
   "metadata": {},
   "source": [
    "La desviación estándar indica que tanto tienden los datos a estar agrupados cerca de la media. De la variable 'Nivel de Glucosa', la desviación estándar es de 45.28, lo que quiere decir que no es mucha la dispersión de los datos recabados."
   ]
  },
  {
   "cell_type": "code",
   "execution_count": 31,
   "metadata": {},
   "outputs": [
    {
     "data": {
      "text/plain": [
       "0.5571680770381952"
      ]
     },
     "execution_count": 31,
     "metadata": {},
     "output_type": "execute_result"
    }
   ],
   "source": [
    "df_derrame['Nivel_Glucosa'].skew()"
   ]
  },
  {
   "cell_type": "markdown",
   "metadata": {},
   "source": [
    "Como es positivo, nos dice que hay una asimetría positiva. Esto significa que los datos estan sesgados a la izquierda."
   ]
  },
  {
   "cell_type": "code",
   "execution_count": 32,
   "metadata": {},
   "outputs": [
    {
     "data": {
      "text/plain": [
       "3.3626591656236746"
      ]
     },
     "execution_count": 32,
     "metadata": {},
     "output_type": "execute_result"
    }
   ],
   "source": [
    "df['BMI'].kurt()"
   ]
  },
  {
   "cell_type": "markdown",
   "metadata": {},
   "source": [
    "Como el coeficiente es mayor que 3, la distribución se llama leptocúrtica, más puntiaguda que la anterior. Hay una mayor concentración de los datos en torno a la media. También existe una mayor probabilidad de que haya valores fuera de rango."
   ]
  },
  {
   "cell_type": "code",
   "execution_count": 33,
   "metadata": {},
   "outputs": [
    {
     "data": {
      "text/html": [
       "<div>\n",
       "<style scoped>\n",
       "    .dataframe tbody tr th:only-of-type {\n",
       "        vertical-align: middle;\n",
       "    }\n",
       "\n",
       "    .dataframe tbody tr th {\n",
       "        vertical-align: top;\n",
       "    }\n",
       "\n",
       "    .dataframe thead th {\n",
       "        text-align: right;\n",
       "    }\n",
       "</style>\n",
       "<table border=\"1\" class=\"dataframe\">\n",
       "  <thead>\n",
       "    <tr style=\"text-align: right;\">\n",
       "      <th></th>\n",
       "      <th>Edad</th>\n",
       "      <th>Derrame_Cerebral</th>\n",
       "      <th>Hipertension</th>\n",
       "      <th>Enfermedad_Corazon</th>\n",
       "      <th>Nivel_Glucosa</th>\n",
       "      <th>BMI</th>\n",
       "    </tr>\n",
       "  </thead>\n",
       "  <tbody>\n",
       "    <tr>\n",
       "      <th>Edad</th>\n",
       "      <td>1.000000</td>\n",
       "      <td>0.245257</td>\n",
       "      <td>0.276398</td>\n",
       "      <td>0.263796</td>\n",
       "      <td>0.238171</td>\n",
       "      <td>0.333398</td>\n",
       "    </tr>\n",
       "    <tr>\n",
       "      <th>Derrame_Cerebral</th>\n",
       "      <td>0.245257</td>\n",
       "      <td>1.000000</td>\n",
       "      <td>0.127904</td>\n",
       "      <td>0.134914</td>\n",
       "      <td>0.131945</td>\n",
       "      <td>0.042374</td>\n",
       "    </tr>\n",
       "    <tr>\n",
       "      <th>Hipertension</th>\n",
       "      <td>0.276398</td>\n",
       "      <td>0.127904</td>\n",
       "      <td>1.000000</td>\n",
       "      <td>0.108306</td>\n",
       "      <td>0.174474</td>\n",
       "      <td>0.167811</td>\n",
       "    </tr>\n",
       "    <tr>\n",
       "      <th>Enfermedad_Corazon</th>\n",
       "      <td>0.263796</td>\n",
       "      <td>0.134914</td>\n",
       "      <td>0.108306</td>\n",
       "      <td>1.000000</td>\n",
       "      <td>0.161857</td>\n",
       "      <td>0.041357</td>\n",
       "    </tr>\n",
       "    <tr>\n",
       "      <th>Nivel_Glucosa</th>\n",
       "      <td>0.238171</td>\n",
       "      <td>0.131945</td>\n",
       "      <td>0.174474</td>\n",
       "      <td>0.161857</td>\n",
       "      <td>1.000000</td>\n",
       "      <td>0.175502</td>\n",
       "    </tr>\n",
       "    <tr>\n",
       "      <th>BMI</th>\n",
       "      <td>0.333398</td>\n",
       "      <td>0.042374</td>\n",
       "      <td>0.167811</td>\n",
       "      <td>0.041357</td>\n",
       "      <td>0.175502</td>\n",
       "      <td>1.000000</td>\n",
       "    </tr>\n",
       "  </tbody>\n",
       "</table>\n",
       "</div>"
      ],
      "text/plain": [
       "                        Edad  Derrame_Cerebral  Hipertension  \\\n",
       "Edad                1.000000          0.245257      0.276398   \n",
       "Derrame_Cerebral    0.245257          1.000000      0.127904   \n",
       "Hipertension        0.276398          0.127904      1.000000   \n",
       "Enfermedad_Corazon  0.263796          0.134914      0.108306   \n",
       "Nivel_Glucosa       0.238171          0.131945      0.174474   \n",
       "BMI                 0.333398          0.042374      0.167811   \n",
       "\n",
       "                    Enfermedad_Corazon  Nivel_Glucosa       BMI  \n",
       "Edad                          0.263796       0.238171  0.333398  \n",
       "Derrame_Cerebral              0.134914       0.131945  0.042374  \n",
       "Hipertension                  0.108306       0.174474  0.167811  \n",
       "Enfermedad_Corazon            1.000000       0.161857  0.041357  \n",
       "Nivel_Glucosa                 0.161857       1.000000  0.175502  \n",
       "BMI                           0.041357       0.175502  1.000000  "
      ]
     },
     "execution_count": 33,
     "metadata": {},
     "output_type": "execute_result"
    }
   ],
   "source": [
    "df.corr()"
   ]
  },
  {
   "cell_type": "code",
   "execution_count": 34,
   "metadata": {},
   "outputs": [
    {
     "data": {
      "text/html": [
       "<div>\n",
       "<style scoped>\n",
       "    .dataframe tbody tr th:only-of-type {\n",
       "        vertical-align: middle;\n",
       "    }\n",
       "\n",
       "    .dataframe tbody tr th {\n",
       "        vertical-align: top;\n",
       "    }\n",
       "\n",
       "    .dataframe thead th {\n",
       "        text-align: right;\n",
       "    }\n",
       "</style>\n",
       "<table border=\"1\" class=\"dataframe\">\n",
       "  <thead>\n",
       "    <tr style=\"text-align: right;\">\n",
       "      <th></th>\n",
       "      <th>Edad</th>\n",
       "      <th>Derrame_Cerebral</th>\n",
       "      <th>Hipertension</th>\n",
       "      <th>Enfermedad_Corazon</th>\n",
       "      <th>Nivel_Glucosa</th>\n",
       "      <th>BMI</th>\n",
       "    </tr>\n",
       "  </thead>\n",
       "  <tbody>\n",
       "    <tr>\n",
       "      <th>Edad</th>\n",
       "      <td>511.331792</td>\n",
       "      <td>1.194146</td>\n",
       "      <td>1.853816</td>\n",
       "      <td>1.348494</td>\n",
       "      <td>243.882731</td>\n",
       "      <td>59.061247</td>\n",
       "    </tr>\n",
       "    <tr>\n",
       "      <th>Derrame_Cerebral</th>\n",
       "      <td>1.194146</td>\n",
       "      <td>0.046363</td>\n",
       "      <td>0.008169</td>\n",
       "      <td>0.006567</td>\n",
       "      <td>1.286527</td>\n",
       "      <td>0.067199</td>\n",
       "    </tr>\n",
       "    <tr>\n",
       "      <th>Hipertension</th>\n",
       "      <td>1.853816</td>\n",
       "      <td>0.008169</td>\n",
       "      <td>0.087976</td>\n",
       "      <td>0.007262</td>\n",
       "      <td>2.343429</td>\n",
       "      <td>0.380736</td>\n",
       "    </tr>\n",
       "    <tr>\n",
       "      <th>Enfermedad_Corazon</th>\n",
       "      <td>1.348494</td>\n",
       "      <td>0.006567</td>\n",
       "      <td>0.007262</td>\n",
       "      <td>0.051104</td>\n",
       "      <td>1.656923</td>\n",
       "      <td>0.070465</td>\n",
       "    </tr>\n",
       "    <tr>\n",
       "      <th>Nivel_Glucosa</th>\n",
       "      <td>243.882731</td>\n",
       "      <td>1.286527</td>\n",
       "      <td>2.343429</td>\n",
       "      <td>1.656923</td>\n",
       "      <td>2050.600820</td>\n",
       "      <td>61.234769</td>\n",
       "    </tr>\n",
       "    <tr>\n",
       "      <th>BMI</th>\n",
       "      <td>59.061247</td>\n",
       "      <td>0.067199</td>\n",
       "      <td>0.380736</td>\n",
       "      <td>0.070465</td>\n",
       "      <td>61.234769</td>\n",
       "      <td>61.686364</td>\n",
       "    </tr>\n",
       "  </tbody>\n",
       "</table>\n",
       "</div>"
      ],
      "text/plain": [
       "                          Edad  Derrame_Cerebral  Hipertension  \\\n",
       "Edad                511.331792          1.194146      1.853816   \n",
       "Derrame_Cerebral      1.194146          0.046363      0.008169   \n",
       "Hipertension          1.853816          0.008169      0.087976   \n",
       "Enfermedad_Corazon    1.348494          0.006567      0.007262   \n",
       "Nivel_Glucosa       243.882731          1.286527      2.343429   \n",
       "BMI                  59.061247          0.067199      0.380736   \n",
       "\n",
       "                    Enfermedad_Corazon  Nivel_Glucosa        BMI  \n",
       "Edad                          1.348494     243.882731  59.061247  \n",
       "Derrame_Cerebral              0.006567       1.286527   0.067199  \n",
       "Hipertension                  0.007262       2.343429   0.380736  \n",
       "Enfermedad_Corazon            0.051104       1.656923   0.070465  \n",
       "Nivel_Glucosa                 1.656923    2050.600820  61.234769  \n",
       "BMI                           0.070465      61.234769  61.686364  "
      ]
     },
     "execution_count": 34,
     "metadata": {},
     "output_type": "execute_result"
    }
   ],
   "source": [
    "df.cov()"
   ]
  },
  {
   "cell_type": "markdown",
   "metadata": {},
   "source": [
    "# Datos univariantes\n",
    "## Gráfica de barras y datos categóricos"
   ]
  },
  {
   "cell_type": "code",
   "execution_count": 35,
   "metadata": {},
   "outputs": [
    {
     "data": {
      "text/html": [
       "<div>\n",
       "<style scoped>\n",
       "    .dataframe tbody tr th:only-of-type {\n",
       "        vertical-align: middle;\n",
       "    }\n",
       "\n",
       "    .dataframe tbody tr th {\n",
       "        vertical-align: top;\n",
       "    }\n",
       "\n",
       "    .dataframe thead th {\n",
       "        text-align: right;\n",
       "    }\n",
       "</style>\n",
       "<table border=\"1\" class=\"dataframe\">\n",
       "  <thead>\n",
       "    <tr style=\"text-align: right;\">\n",
       "      <th></th>\n",
       "      <th>Genero</th>\n",
       "      <th>Edad</th>\n",
       "      <th>Derrame_Cerebral</th>\n",
       "      <th>Hipertension</th>\n",
       "      <th>Enfermedad_Corazon</th>\n",
       "      <th>Edo_Civil</th>\n",
       "      <th>Tipo_Trabajo</th>\n",
       "      <th>Nivel_Glucosa</th>\n",
       "      <th>BMI</th>\n",
       "      <th>Tipo_Trabajo.1</th>\n",
       "      <th>Consumo_Tabaco</th>\n",
       "    </tr>\n",
       "  </thead>\n",
       "  <tbody>\n",
       "    <tr>\n",
       "      <th>0</th>\n",
       "      <td>Male</td>\n",
       "      <td>67.0</td>\n",
       "      <td>1</td>\n",
       "      <td>0</td>\n",
       "      <td>1</td>\n",
       "      <td>Yes</td>\n",
       "      <td>Private</td>\n",
       "      <td>228.69</td>\n",
       "      <td>36.6</td>\n",
       "      <td>Private</td>\n",
       "      <td>formerly smoked</td>\n",
       "    </tr>\n",
       "    <tr>\n",
       "      <th>1</th>\n",
       "      <td>Female</td>\n",
       "      <td>61.0</td>\n",
       "      <td>1</td>\n",
       "      <td>0</td>\n",
       "      <td>0</td>\n",
       "      <td>Yes</td>\n",
       "      <td>Self-employed</td>\n",
       "      <td>202.21</td>\n",
       "      <td>NaN</td>\n",
       "      <td>Self-employed</td>\n",
       "      <td>never smoked</td>\n",
       "    </tr>\n",
       "    <tr>\n",
       "      <th>2</th>\n",
       "      <td>Male</td>\n",
       "      <td>80.0</td>\n",
       "      <td>1</td>\n",
       "      <td>0</td>\n",
       "      <td>1</td>\n",
       "      <td>Yes</td>\n",
       "      <td>Private</td>\n",
       "      <td>105.92</td>\n",
       "      <td>32.5</td>\n",
       "      <td>Private</td>\n",
       "      <td>never smoked</td>\n",
       "    </tr>\n",
       "  </tbody>\n",
       "</table>\n",
       "</div>"
      ],
      "text/plain": [
       "   Genero  Edad  Derrame_Cerebral  Hipertension  Enfermedad_Corazon Edo_Civil  \\\n",
       "0    Male  67.0                 1             0                   1       Yes   \n",
       "1  Female  61.0                 1             0                   0       Yes   \n",
       "2    Male  80.0                 1             0                   1       Yes   \n",
       "\n",
       "    Tipo_Trabajo  Nivel_Glucosa   BMI Tipo_Trabajo.1   Consumo_Tabaco  \n",
       "0        Private         228.69  36.6        Private  formerly smoked  \n",
       "1  Self-employed         202.21   NaN  Self-employed     never smoked  \n",
       "2        Private         105.92  32.5        Private     never smoked  "
      ]
     },
     "execution_count": 35,
     "metadata": {},
     "output_type": "execute_result"
    }
   ],
   "source": [
    "import pandas as pd\n",
    "import matplotlib as plt\n",
    "%matplotlib inline\n",
    "df = pd.read_csv(\"C:/Users/rbote/Downloads/predicción_derrame_cerebral_BD.csv\", index_col=0)\n",
    "df.head(3)"
   ]
  },
  {
   "cell_type": "code",
   "execution_count": 36,
   "metadata": {},
   "outputs": [
    {
     "data": {
      "text/plain": [
       "Index(['Genero', 'Edad', 'Derrame_Cerebral', 'Hipertension',\n",
       "       'Enfermedad_Corazon', 'Edo_Civil', 'Tipo_Trabajo', 'Nivel_Glucosa',\n",
       "       'BMI', 'Consumo_Tabaco'],\n",
       "      dtype='object')"
      ]
     },
     "execution_count": 36,
     "metadata": {},
     "output_type": "execute_result"
    }
   ],
   "source": [
    "df_derrame.columns"
   ]
  },
  {
   "cell_type": "code",
   "execution_count": 37,
   "metadata": {},
   "outputs": [
    {
     "data": {
      "image/png": "[encoded data removed]",
      "text/plain": [
       "<Figure size 432x288 with 1 Axes>"
      ]
     },
     "metadata": {},
     "output_type": "display_data"
    }
   ],
   "source": [
    "desfase= [0, 0.1]\n",
    "nombres = [\"No\",\"Si\"]\n",
    "colores = [\"#60D394\",\"#FFD97D\"]\n",
    "df['Derrame_Cerebral'].value_counts().plot.pie(autopct=\"%0.1f %%\", labels=nombres, colors=colores, explode=desfase)\n",
    "plt.pyplot.title('Porcentaje de pacientes que han sufrido de algun accidente cardiovascular (n=5110)')\n",
    "plt.pyplot.show()"
   ]
  },
  {
   "cell_type": "markdown",
   "metadata": {},
   "source": [
    "Del total poblacional de este caso de estudio que son 5110 pacientes, el 4.9% han sufrido de algún accidente cerebrovascular. Comparado con el 95.1% que nunca ha sufrido de uno. El equivalente de las personas que han tenido un derrame cerebral es de 249 personas la cual es una cifra considerable. "
   ]
  },
  {
   "cell_type": "code",
   "execution_count": 39,
   "metadata": {},
   "outputs": [
    {
     "data": {
      "image/png": "[encoded data removed]",
      "text/plain": [
       "<Figure size 432x288 with 1 Axes>"
      ]
     },
     "metadata": {},
     "output_type": "display_data"
    }
   ],
   "source": [
    "from matplotlib import colors\n",
    "from matplotlib import cm\n",
    "\n",
    "desfase= [0, 0.1]\n",
    "\n",
    "df_derrame['Genero'].value_counts().plot.pie(autopct=\"%0.1f %%\", cmap='rainbow', explode=desfase)\n",
    "\n",
    "plt.pyplot.title('Total hombres y mujeres de los pacientes que sufrieron de un derrame cerebral (n=249)')\n",
    "plt.pyplot.show()"
   ]
  },
  {
   "cell_type": "markdown",
   "metadata": {},
   "source": [
    "Del total de pacientes que participaron en el caso de estudio, el total de mujeres supera por 13.2% al porcentaje del total de hombres. Tomando n= 249, podemos ver en el gráfico que el total de pacientes del sexo femenino que han tenido un derrame cerebral es de 141, que equivale al 56.6% del total. El resto, 108 son del sexo masculino que es igual al 43.4%. Podemos darnos cuenta que más mujeres han tenido derrames; sin embargo, el total de mujeres en el caso de estudio es mayor al total de hombres entonces realmente no existe una mayor probabilidad de que mujeres sufran de un accidente cerebrovascular."
   ]
  },
  {
   "cell_type": "code",
   "execution_count": 40,
   "metadata": {},
   "outputs": [
    {
     "data": {
      "image/png": "[encoded data removed]",
      "text/plain": [
       "<Figure size 432x288 with 1 Axes>"
      ]
     },
     "metadata": {},
     "output_type": "display_data"
    }
   ],
   "source": [
    "nombres = [\"No\",\"Si\"]\n",
    "df_derrame['Hipertension'].value_counts().plot.pie(autopct=\"%0.1f %%\", labels=nombres, cmap='Oranges', explode=desfase)\n",
    "plt.pyplot.title('Hipertensión en personas que han sufrido de un accidente cardiovasuclar (n=249)')\n",
    "plt.pyplot.show()"
   ]
  },
  {
   "cell_type": "markdown",
   "metadata": {},
   "source": [
    "De los 249 pacientes que, si han sufrido de un accidente cerebrovascular, un poco más de la cuarta parte de estas también sufre de hipertensión. Hipertensión es el término que se utiliza para describir la presión arterial alta. Los accidentes cardiovasculares si pueden ser causados por una alta presión arterial porque gracias a esta, los vasos sanguíneos pueden estrecharse, romperse, tener fugas y también pueden hacer que se formen cuágulos de sangre en las arterias que van al cerebro, bloqueando el flujo sanguíneo y causa potencial de un derrame cerebral."
   ]
  },
  {
   "cell_type": "code",
   "execution_count": 41,
   "metadata": {},
   "outputs": [
    {
     "data": {
      "image/png": "[encoded data removed]",
      "text/plain": [
       "<Figure size 432x288 with 1 Axes>"
      ]
     },
     "metadata": {},
     "output_type": "display_data"
    }
   ],
   "source": [
    "nombres = [\"No\",\"Si\"]\n",
    "colores = [\"#AAF683\",\"#FFD97D\"]\n",
    "df_derrame['Enfermedad_Corazon'].value_counts().plot.pie(autopct=\"%0.1f %%\", labels=nombres, colors=colores, explode=desfase)\n",
    "plt.pyplot.title('Total de pacientes con enfermedad del corazón que han sufrido de un accidente cardiovasuclar (n=249)')\n",
    "plt.pyplot.show()"
   ]
  },
  {
   "cell_type": "markdown",
   "metadata": {},
   "source": [
    "La gráfica anterior muestra el total de pacientes con enfermedad del corazón que han sufrido de un accidente cardiovascular. De 249 pacientes que han sufrido de un accidente cardiovascular, el 18.9% si sufría de una enfermedad del corazón."
   ]
  },
  {
   "cell_type": "markdown",
   "metadata": {},
   "source": [
    "## Histogramas"
   ]
  },
  {
   "cell_type": "code",
   "execution_count": 48,
   "metadata": {},
   "outputs": [
    {
     "data": {
      "text/plain": [
       "<AxesSubplot:ylabel='Frequency'>"
      ]
     },
     "execution_count": 48,
     "metadata": {},
     "output_type": "execute_result"
    },
    {
     "data": {
      "image/png": "[encoded data removed]",
      "text/plain": [
       "<Figure size 432x288 with 1 Axes>"
      ]
     },
     "metadata": {
      "needs_background": "light"
     },
     "output_type": "display_data"
    }
   ],
   "source": [
    "df_derrame['BMI'].plot.hist(color=['pink'])"
   ]
  },
  {
   "cell_type": "markdown",
   "metadata": {},
   "source": [
    "Este histograma muestra la frecuencia de índices de masa corporal en los pacientes que han tenido algún accidente cerebrovascular. Como se puede observar, la mayoría de los pacientes que tuvieron un derrame tenían un índice de masa corporal de entre 25 y 35."
   ]
  },
  {
   "cell_type": "code",
   "execution_count": 49,
   "metadata": {},
   "outputs": [
    {
     "data": {
      "text/plain": [
       "<AxesSubplot:ylabel='Frequency'>"
      ]
     },
     "execution_count": 49,
     "metadata": {},
     "output_type": "execute_result"
    },
    {
     "data": {
      "image/png": "[encoded data removed]",
      "text/plain": [
       "<Figure size 432x288 with 1 Axes>"
      ]
     },
     "metadata": {
      "needs_background": "light"
     },
     "output_type": "display_data"
    }
   ],
   "source": [
    "df_derrame[df_derrame['Nivel_Glucosa'] <200]['Nivel_Glucosa'].plot.hist(color=['cyan'])"
   ]
  },
  {
   "cell_type": "markdown",
   "metadata": {},
   "source": [
    "Este histograma muestra la frecuencia de los niveles de glucosa en los pacientes que han tenido algún accidente cerebrovascular. Como se puede observar, la mayoría de los pacientes que tuvieron un derrame tenían un nivel de glucosa por debajo de 110."
   ]
  },
  {
   "cell_type": "code",
   "execution_count": 50,
   "metadata": {},
   "outputs": [
    {
     "data": {
      "text/plain": [
       "<AxesSubplot:ylabel='Frequency'>"
      ]
     },
     "execution_count": 50,
     "metadata": {},
     "output_type": "execute_result"
    },
    {
     "data": {
      "image/png": "[encoded data removed]",
      "text/plain": [
       "<Figure size 432x288 with 1 Axes>"
      ]
     },
     "metadata": {
      "needs_background": "light"
     },
     "output_type": "display_data"
    }
   ],
   "source": [
    "df_derrame['Edad'].plot.hist(color=['purple'])"
   ]
  },
  {
   "cell_type": "markdown",
   "metadata": {},
   "source": [
    "Este histograma muestra la frecuencia de edad en los pacientes que han tenido algún accidente cerebrovascular. El intervalo con mayor frecuencia va de los 75 a los 85. Los datos estan sesgados a la derecha lo que quiere decir que entre más edad, hay más pacientes con derrames cerebrales."
   ]
  },
  {
   "cell_type": "markdown",
   "metadata": {},
   "source": [
    "## Graficar datos bi-variantes"
   ]
  },
  {
   "cell_type": "code",
   "execution_count": 56,
   "metadata": {},
   "outputs": [
    {
     "data": {
      "text/plain": [
       "<AxesSubplot:xlabel='Nivel_Glucosa', ylabel='Edad'>"
      ]
     },
     "execution_count": 56,
     "metadata": {},
     "output_type": "execute_result"
    },
    {
     "data": {
      "image/png": "[encoded data removed]",
      "text/plain": [
       "<Figure size 432x288 with 2 Axes>"
      ]
     },
     "metadata": {
      "needs_background": "light"
     },
     "output_type": "display_data"
    }
   ],
   "source": [
    "df_derrame[df_derrame['Edad'] <150].plot.hexbin(x='Nivel_Glucosa', y='Edad', gridsize=15)"
   ]
  },
  {
   "cell_type": "markdown",
   "metadata": {},
   "source": [
    "En la gráfica anterior se tomó solo las personas que ya han tenido un derrame y podemos observar que las personas arriba de 70 años son las que más han tenido derrames. También se observa que el nivel de glucosa está por debajo de 125 en la mayoría de los datos."
   ]
  },
  {
   "cell_type": "markdown",
   "metadata": {},
   "source": [
    "## Stacked Plots "
   ]
  },
  {
   "cell_type": "markdown",
   "metadata": {},
   "source": [
    "Las gráficas \"Stacked\", cuando las variables se grafican una encima de la otra, no pudimos graficarlas pues no contamos cn los suficientes variables de cierto tipo para graficarlas. "
   ]
  },
  {
   "cell_type": "code",
   "execution_count": 57,
   "metadata": {},
   "outputs": [
    {
     "data": {
      "text/html": [
       "<div>\n",
       "<style scoped>\n",
       "    .dataframe tbody tr th:only-of-type {\n",
       "        vertical-align: middle;\n",
       "    }\n",
       "\n",
       "    .dataframe tbody tr th {\n",
       "        vertical-align: top;\n",
       "    }\n",
       "\n",
       "    .dataframe thead th {\n",
       "        text-align: right;\n",
       "    }\n",
       "</style>\n",
       "<table border=\"1\" class=\"dataframe\">\n",
       "  <thead>\n",
       "    <tr style=\"text-align: right;\">\n",
       "      <th></th>\n",
       "      <th>Genero</th>\n",
       "      <th>Edad</th>\n",
       "      <th>Derrame_Cerebral</th>\n",
       "      <th>Hipertension</th>\n",
       "      <th>Enfermedad_Corazon</th>\n",
       "      <th>Edo_Civil</th>\n",
       "      <th>Tipo_Trabajo</th>\n",
       "      <th>Nivel_Glucosa</th>\n",
       "      <th>BMI</th>\n",
       "      <th>Consumo_Tabaco</th>\n",
       "    </tr>\n",
       "  </thead>\n",
       "  <tbody>\n",
       "    <tr>\n",
       "      <th>0</th>\n",
       "      <td>Male</td>\n",
       "      <td>67.0</td>\n",
       "      <td>1</td>\n",
       "      <td>0</td>\n",
       "      <td>1</td>\n",
       "      <td>Yes</td>\n",
       "      <td>Private</td>\n",
       "      <td>228.69</td>\n",
       "      <td>36.6</td>\n",
       "      <td>formerly smoked</td>\n",
       "    </tr>\n",
       "    <tr>\n",
       "      <th>1</th>\n",
       "      <td>Female</td>\n",
       "      <td>61.0</td>\n",
       "      <td>1</td>\n",
       "      <td>0</td>\n",
       "      <td>0</td>\n",
       "      <td>Yes</td>\n",
       "      <td>Self-employed</td>\n",
       "      <td>202.21</td>\n",
       "      <td>NaN</td>\n",
       "      <td>never smoked</td>\n",
       "    </tr>\n",
       "    <tr>\n",
       "      <th>2</th>\n",
       "      <td>Male</td>\n",
       "      <td>80.0</td>\n",
       "      <td>1</td>\n",
       "      <td>0</td>\n",
       "      <td>1</td>\n",
       "      <td>Yes</td>\n",
       "      <td>Private</td>\n",
       "      <td>105.92</td>\n",
       "      <td>32.5</td>\n",
       "      <td>never smoked</td>\n",
       "    </tr>\n",
       "  </tbody>\n",
       "</table>\n",
       "</div>"
      ],
      "text/plain": [
       "   Genero  Edad  Derrame_Cerebral  Hipertension  Enfermedad_Corazon Edo_Civil  \\\n",
       "0    Male  67.0                 1             0                   1       Yes   \n",
       "1  Female  61.0                 1             0                   0       Yes   \n",
       "2    Male  80.0                 1             0                   1       Yes   \n",
       "\n",
       "    Tipo_Trabajo  Nivel_Glucosa   BMI   Consumo_Tabaco  \n",
       "0        Private         228.69  36.6  formerly smoked  \n",
       "1  Self-employed         202.21   NaN     never smoked  \n",
       "2        Private         105.92  32.5     never smoked  "
      ]
     },
     "execution_count": 57,
     "metadata": {},
     "output_type": "execute_result"
    }
   ],
   "source": [
    "df = pd.read_csv(\"C:/Users/rbote/Downloads/predicción_derrame_cerebral_BD.csv\", index_col=0)\n",
    "df = df.drop(df.columns[[9]], axis='columns')\n",
    "df.head(3)"
   ]
  },
  {
   "cell_type": "code",
   "execution_count": 58,
   "metadata": {},
   "outputs": [],
   "source": [
    "import seaborn as sns"
   ]
  },
  {
   "cell_type": "code",
   "execution_count": 59,
   "metadata": {},
   "outputs": [
    {
     "name": "stderr",
     "output_type": "stream",
     "text": [
      "C:\\Users\\rbote\\OneDrive\\Documents\\Anaconda\\lib\\site-packages\\seaborn\\_decorators.py:36: FutureWarning: Pass the following variable as a keyword arg: x. From version 0.12, the only valid positional argument will be `data`, and passing other arguments without an explicit keyword will result in an error or misinterpretation.\n",
      "  warnings.warn(\n"
     ]
    },
    {
     "data": {
      "text/plain": [
       "Text(0, 0.5, 'Frecuencia Absoluta')"
      ]
     },
     "execution_count": 59,
     "metadata": {},
     "output_type": "execute_result"
    },
    {
     "data": {
      "image/png": "[encoded data removed]",
      "text/plain": [
       "<Figure size 432x288 with 1 Axes>"
      ]
     },
     "metadata": {
      "needs_background": "light"
     },
     "output_type": "display_data"
    }
   ],
   "source": [
    "sns.countplot(df_derrame['Consumo_Tabaco'])\n",
    "plt.pyplot.xlabel(\"Consumo de Tabaco\")\n",
    "plt.pyplot.ylabel(\"Frecuencia Absoluta\")"
   ]
  },
  {
   "cell_type": "markdown",
   "metadata": {},
   "source": [
    "En este gráfico se observa que la mayoría de los pacientes que ya han tenido un derrame nunca han fumado. Se observa que la categoría con menos frecuencia son los que fuman actualmente."
   ]
  },
  {
   "cell_type": "code",
   "execution_count": 60,
   "metadata": {},
   "outputs": [
    {
     "name": "stderr",
     "output_type": "stream",
     "text": [
      "C:\\Users\\rbote\\OneDrive\\Documents\\Anaconda\\lib\\site-packages\\seaborn\\_decorators.py:36: FutureWarning: Pass the following variable as a keyword arg: x. From version 0.12, the only valid positional argument will be `data`, and passing other arguments without an explicit keyword will result in an error or misinterpretation.\n",
      "  warnings.warn(\n"
     ]
    },
    {
     "data": {
      "text/plain": [
       "Text(0, 0.5, 'Frecuencia Absoluta')"
      ]
     },
     "execution_count": 60,
     "metadata": {},
     "output_type": "execute_result"
    },
    {
     "data": {
      "image/png": "[encoded data removed]",
      "text/plain": [
       "<Figure size 432x288 with 1 Axes>"
      ]
     },
     "metadata": {
      "needs_background": "light"
     },
     "output_type": "display_data"
    }
   ],
   "source": [
    "sns.countplot(df_derrame['Edo_Civil'])\n",
    "plt.pyplot.xlabel(\"Estado Civil\")\n",
    "plt.pyplot.ylabel(\"Frecuencia Absoluta\")"
   ]
  },
  {
   "cell_type": "markdown",
   "metadata": {},
   "source": [
    "Este gráfico muestra la frecuencia de las personas que tuvieron un derrame en cuanto al estado civil. La mayoría si ha estado casado (más de 200 pacientes) y menor de 50 pacientes no ha estado casado."
   ]
  },
  {
   "cell_type": "code",
   "execution_count": 61,
   "metadata": {},
   "outputs": [
    {
     "name": "stderr",
     "output_type": "stream",
     "text": [
      "C:\\Users\\rbote\\OneDrive\\Documents\\Anaconda\\lib\\site-packages\\seaborn\\_decorators.py:36: FutureWarning: Pass the following variable as a keyword arg: x. From version 0.12, the only valid positional argument will be `data`, and passing other arguments without an explicit keyword will result in an error or misinterpretation.\n",
      "  warnings.warn(\n"
     ]
    },
    {
     "data": {
      "text/plain": [
       "Text(0, 0.5, 'Frecuencia Absoluta')"
      ]
     },
     "execution_count": 61,
     "metadata": {},
     "output_type": "execute_result"
    },
    {
     "data": {
      "image/png": "[encoded data removed]",
      "text/plain": [
       "<Figure size 432x288 with 1 Axes>"
      ]
     },
     "metadata": {
      "needs_background": "light"
     },
     "output_type": "display_data"
    }
   ],
   "source": [
    "sns.countplot(df_derrame['Tipo_Trabajo'])\n",
    "plt.pyplot.xlabel(\"Tipo de Trabajo\")\n",
    "plt.pyplot.ylabel(\"Frecuencia Absoluta\")"
   ]
  },
  {
   "cell_type": "markdown",
   "metadata": {},
   "source": [
    "En este gráfico se observa que la mayoría de las personas trabaja en empresa privada con una frecuencia de mas de 140. El que menos se observa es la categoría “children” que son los infantes ya que estos no van a tener un trabajo."
   ]
  },
  {
   "cell_type": "code",
   "execution_count": 66,
   "metadata": {},
   "outputs": [
    {
     "data": {
      "text/plain": [
       "<seaborn.axisgrid.JointGrid at 0x1d9da686fa0>"
      ]
     },
     "execution_count": 66,
     "metadata": {},
     "output_type": "execute_result"
    },
    {
     "data": {
      "image/png": "[encoded data removed]",
      "text/plain": [
       "<Figure size 432x432 with 3 Axes>"
      ]
     },
     "metadata": {
      "needs_background": "light"
     },
     "output_type": "display_data"
    }
   ],
   "source": [
    "sns.jointplot(x='Edad', y='Nivel_Glucosa', data=df_derrame[df_derrame['Edad'] < 100])"
   ]
  },
  {
   "cell_type": "markdown",
   "metadata": {},
   "source": [
    "En esta grafica podemos observar que los pacientes que sufrieron el derrame, la mayoría contaban con un nivel de glucosa entre 50 y 100 o entre 200 y 250 por lo que podemos hipotetizar que la glucosa puede no ser un factor de mucha importancia en si el paciente sufre o no un derrame."
   ]
  },
  {
   "cell_type": "code",
   "execution_count": 67,
   "metadata": {},
   "outputs": [
    {
     "data": {
      "text/plain": [
       "<seaborn.axisgrid.JointGrid at 0x1d9da69bd90>"
      ]
     },
     "execution_count": 67,
     "metadata": {},
     "output_type": "execute_result"
    },
    {
     "data": {
      "image/png": "[encoded data removed]",
      "text/plain": [
       "<Figure size 432x432 with 3 Axes>"
      ]
     },
     "metadata": {
      "needs_background": "light"
     },
     "output_type": "display_data"
    }
   ],
   "source": [
    "sns.jointplot(x='Edad', y='BMI', data=df_derrame[df_derrame['Edad'] < 100])"
   ]
  },
  {
   "cell_type": "markdown",
   "metadata": {},
   "source": [
    "La gráfica muestra que el indice de masa corporal de las personas que han sufrido un derrame se encuentra mayormente entre 25 y 30, por lo que podemos hipotetizar que mientras menos indice de masa corporal tenga el paciente, sera más propenso a un derrame."
   ]
  },
  {
   "cell_type": "markdown",
   "metadata": {},
   "source": [
    "## Boxplots"
   ]
  },
  {
   "cell_type": "code",
   "execution_count": 69,
   "metadata": {},
   "outputs": [
    {
     "data": {
      "text/plain": [
       "<AxesSubplot:xlabel='Genero', ylabel='Edad'>"
      ]
     },
     "execution_count": 69,
     "metadata": {},
     "output_type": "execute_result"
    },
    {
     "data": {
      "image/png": "[encoded data removed]",
      "text/plain": [
       "<Figure size 432x288 with 1 Axes>"
      ]
     },
     "metadata": {
      "needs_background": "light"
     },
     "output_type": "display_data"
    }
   ],
   "source": [
    "sns.violinplot(\n",
    "    x='Genero',\n",
    "    y='Edad',\n",
    "    data=df_derrame[df_derrame.Genero.isin(df_derrame.Genero.value_counts().index)]\n",
    ")"
   ]
  },
  {
   "cell_type": "markdown",
   "metadata": {},
   "source": [
    "El diagrama de violín se utiliza para visualizar la distribución de los datos y su densidad de probabilidad. Esta gráfica representa la dispersión de la edad en pacientes que han tenido un accidente cerebrovascular por género. Para ambos géneros la mediana es aproximadamente 70 años de edad. La dispersión de los datos es mucho menor para el género masculino. Podemos observar que el ancho de densidad el gráfico, que es igual a la frecuencia, a la edad de 80 es similar para ambos géneros y es alrededor de esta edad que se concentran la mayoría de los datos pues es la parte más gruesa de ambas gráficas. "
   ]
  },
  {
   "cell_type": "code",
   "execution_count": 70,
   "metadata": {},
   "outputs": [
    {
     "data": {
      "text/plain": [
       "<seaborn.axisgrid.PairGrid at 0x1d9da6a1880>"
      ]
     },
     "execution_count": 70,
     "metadata": {},
     "output_type": "execute_result"
    },
    {
     "data": {
      "image/png": "[encoded data removed]",
      "text/plain": [
       "<Figure size 540x540 with 12 Axes>"
      ]
     },
     "metadata": {
      "needs_background": "light"
     },
     "output_type": "display_data"
    }
   ],
   "source": [
    "sns.pairplot(df_derrame[['Edad', 'BMI', 'Nivel_Glucosa']])"
   ]
  },
  {
   "cell_type": "markdown",
   "metadata": {},
   "source": [
    "Este gráfico muestra la relación entre tres variables: el nivel de glucosa, la edad de los pacientes y el índice de masa corporal para la pase de datos que solo toma en cuenta a los pacientes que han sufrido de algun accidente cerebrovascular. "
   ]
  },
  {
   "cell_type": "markdown",
   "metadata": {},
   "source": [
    "### Conclusión \n",
    "\n",
    "Al analizar los datos que nos mostraban las gráficas sobre todos los pacientes en general, nos parecio más interesante y óptimo trabajar con aquellos que ya habían sufrido de un derrame cerebral, para así poder generar un pronóstico más certero de si un paciente puede sufrir o no dicha condición de acuerdo a los factores que la base de datos nos proporciona. Asimismo, esta práctica nos permite concluir que la enfermedad que influye más en si el paciente sufre o no un derrame cerebral es la hipertensión ya que un 26.5% de ellos presentaba dicha enfermedad, mientras que los pacientes que tenían una enfermedad del corazón solo representa un 18.9%."
   ]
  }
 ],
 "metadata": {
  "kernelspec": {
   "display_name": "Python 3",
   "language": "python",
   "name": "python3"
  },
  "language_info": {
   "codemirror_mode": {
    "name": "ipython",
    "version": 3
   },
   "file_extension": ".py",
   "mimetype": "text/x-python",
   "name": "python",
   "nbconvert_exporter": "python",
   "pygments_lexer": "ipython3",
   "version": "3.8.5"
  }
 },
 "nbformat": 4,
 "nbformat_minor": 4
}
