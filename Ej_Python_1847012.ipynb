{
 "cells": [
  {
   "cell_type": "markdown",
   "metadata": {},
   "source": [
    "Ejercicio 1:\n",
    "Realiza una variable con tu matricula y realiza una secuencia de imprimir con tu nombre y tu matricula concatenados."
   ]
  },
  {
   "cell_type": "code",
   "execution_count": 7,
   "metadata": {},
   "outputs": [
    {
     "name": "stdout",
     "output_type": "stream",
     "text": [
      "José Ricardo Botello Flores  1847012\n"
     ]
    }
   ],
   "source": [
    "mat = 1847012\n",
    "print(\"José Ricardo Botello Flores \",mat)"
   ]
  },
  {
   "cell_type": "markdown",
   "metadata": {},
   "source": [
    "Ejercicio 2:\n",
    "Pidiendo el input del usuario pide dos números y crea una pequeña calculadora con los operadores básicos de suma, resta, multiplicación, división, y exponente."
   ]
  },
  {
   "cell_type": "code",
   "execution_count": 33,
   "metadata": {
    "scrolled": true
   },
   "outputs": [
    {
     "name": "stdout",
     "output_type": "stream",
     "text": [
      "Introduce un número: 2\n",
      "Introduce otro número: 5\n",
      "\n",
      "Suma de los numeros:  7\n",
      "Resta de los numeros:  -3  ó  3\n",
      "Multiplicación de los numeros:  10\n",
      "División de los numeros:  0.4  ó  2.5\n",
      "Exponente:  32  ó  25\n"
     ]
    }
   ],
   "source": [
    "a = int(input(\"Introduce un número: \"))\n",
    "b = int(input(\"Introduce otro número: \"))\n",
    "\n",
    "print()\n",
    "print(\"Suma de los numeros: \",a+b)\n",
    "print(\"Resta de los numeros: \",a-b,\" ó \" ,b-a)\n",
    "print(\"Multiplicación de los numeros: \",a*b)\n",
    "print(\"División de los numeros: \",a/b,\" ó \",b/a)\n",
    "print(\"Exponente: \",a**b,\" ó \",b**a)"
   ]
  },
  {
   "cell_type": "markdown",
   "metadata": {},
   "source": [
    "Ejercicio 3:\n",
    "Con loop while o for, realiza una lista de 10 numeros multiplos de 3, y después realiza una función de loop que sume todos los números dentro del arreglo."
   ]
  },
  {
   "cell_type": "code",
   "execution_count": 32,
   "metadata": {},
   "outputs": [
    {
     "name": "stdout",
     "output_type": "stream",
     "text": [
      "3\n",
      "6\n",
      "9\n",
      "12\n",
      "15\n",
      "18\n",
      "21\n",
      "24\n",
      "27\n",
      "30\n",
      "\n",
      "Suma:  165\n"
     ]
    }
   ],
   "source": [
    "c = 0 \n",
    "for i in range(3,31):\n",
    "    if i%3 == 0:\n",
    "        print(i)\n",
    "        c = c + i\n",
    "    i+=1\n",
    "print()\n",
    "print(\"Suma: \",c)"
   ]
  },
  {
   "cell_type": "markdown",
   "metadata": {},
   "source": [
    "Ejercicio 4:\n",
    "Con una función de if else, revisar si un número es par o es impar.\n",
    "Con una función de if else, revisar si un número es primo o no."
   ]
  },
  {
   "cell_type": "code",
   "execution_count": 34,
   "metadata": {},
   "outputs": [
    {
     "name": "stdout",
     "output_type": "stream",
     "text": [
      "Introduce un número: 7\n",
      "\n",
      "7 es divisible por: 1 - 7 - Fin\n",
      "\n",
      "El número es par\n",
      "El numero ingresado si es primo, tiene 2 divisores\n"
     ]
    }
   ],
   "source": [
    "a = int(input(\"Introduce un número: \"))\n",
    "cont = 0\n",
    "print()\n",
    "\n",
    "#Función para saber si un número es primo o no\n",
    "#https://misfragmentosdecodigo.eu/mostrar-si-un-numero-es-primo-con-python/\n",
    "\n",
    "print(\"{0} es divisible por\".format(a), end=\": \")\n",
    "for n in range(1, a+1):\n",
    "    if a % n == 0:\n",
    "        print(n, end=\" - \")\n",
    "        cont += 1\n",
    "print(\"Fin\")\n",
    "print()\n",
    "if a/2:\n",
    "    print(\"El número es par\")\n",
    "else:\n",
    "    print(\"El número es impar\")\n",
    "    \n",
    "\n",
    "if cont == 2:\n",
    "    print(\"El numero ingresado si es primo, tiene {0} divisores\".format(cont))\n",
    "else:\n",
    "    print(\"El numero ingresado no es primo, tiene {0} divisores\".format(cont))"
   ]
  },
  {
   "cell_type": "markdown",
   "metadata": {},
   "source": [
    "Ejercicio 5:\n",
    "Utilizando diferentes clases en python, crea una calculadora con los operadores básicos de suma, resta, multiplicación, división, y exponente."
   ]
  },
  {
   "cell_type": "code",
   "execution_count": 18,
   "metadata": {},
   "outputs": [
    {
     "name": "stdout",
     "output_type": "stream",
     "text": [
      "S ó s = Suma \n",
      "R ó r = Resta \n",
      "M ó m = Multiplicación\n",
      "D ó d = División\n",
      "E ó e = Exponente\n",
      "\n",
      "\n",
      "Ingresa dos numeros\n",
      "Numero 1: 4\n",
      "Numero 2: 5\n",
      "\n",
      "Selecciona lo que deseas hacer con los dos numeros: d\n",
      "\n",
      "El resultado de la operación seleccionada es:  0.8\n"
     ]
    }
   ],
   "source": [
    "print(\"S ó s = Suma \\nR ó r = Resta \\nM ó m = Multiplicación\\nD ó d = División\\nE ó e = Exponente\\n\\n\")\n",
    "\n",
    "#Función para calculadora\n",
    "#https://www.youtube.com/watch?v=7prQO5Ju7zk\n",
    "\n",
    "print(\"Ingresa dos numeros\")\n",
    "n1 = float(input(\"Numero 1: \"))\n",
    "n2 = float(input(\"Numero 2: \"))\n",
    "print()\n",
    "op = input(\"Selecciona lo que deseas hacer con los dos numeros: \")\n",
    "\n",
    "def Suma(n1,n2):\n",
    "    return(n1+n2)\n",
    "def Resta(n1,n2):\n",
    "    return(n1-n2)\n",
    "def Mult(n1,n2):\n",
    "    return(n1*n2)\n",
    "def Division(n1,n2):\n",
    "    return(n1/n2)\n",
    "def Exponente(n1,n2):\n",
    "    return(n1**n2)\n",
    "\n",
    "res = 0\n",
    "op = op.lower()\n",
    "if op ==\"s\":\n",
    "    res = Suma(n1,n2)\n",
    "elif op ==\"r\":\n",
    "    res = Resta(n1,n2)\n",
    "elif op ==\"m\":\n",
    "    res = Mult(n1,n2)\n",
    "elif op ==\"d\":\n",
    "    if n2 != 0:\n",
    "        res = Division(n1,n2)\n",
    "elif op ==\"e\":\n",
    "    res = Exponente(n1,n2)\n",
    "else:\n",
    "    print(\"No existe esa opción\")\n",
    "\n",
    "print()\n",
    "print(\"El resultado de la operación seleccionada es: \", res)"
   ]
  },
  {
   "cell_type": "markdown",
   "metadata": {},
   "source": [
    "Ejercicio 6: Tuplas\n",
    "\n",
    "Crear una variable flotante, integer, boleana y compleja e imprimir el tipo de variable que es.\n",
    "\n",
    "Crear una tupla con valores enteros imprimir el primer y ultimo valor.\n",
    "\n",
    "Añadir 3 valores de string a la tupla.\n",
    "\n",
    "Verificar si una variable existe dentro de la tupla."
   ]
  },
  {
   "cell_type": "code",
   "execution_count": 1,
   "metadata": {
    "scrolled": false
   },
   "outputs": [
    {
     "name": "stdout",
     "output_type": "stream",
     "text": [
      "f = <class 'float'>\n",
      "i = <class 'int'>\n",
      "b = <class 'bool'>\n",
      "c = <class 'complex'>\n",
      "\n",
      "(1, 21, 345, 21, 34)\n",
      "\n",
      "Primer Valor:  1  y Ultimo valor:  34\n",
      "\n",
      "Elementos añadidos:  (1, 21, 345, 21, 34, 'hola', 'como', 'te llamas')\n",
      "El valor 1 esta en t1?  True\n"
     ]
    }
   ],
   "source": [
    "f = 1.24\n",
    "print(\"f =\",type(f))\n",
    "i = 7\n",
    "print(\"i =\",type(i))\n",
    "b = False\n",
    "print(\"b =\",type(b))\n",
    "c = 5j\n",
    "print(\"c =\",type(c))\n",
    "\n",
    "print()\n",
    "t1 = (1,21,345,21,34)\n",
    "print(t1)\n",
    "print()\n",
    "print(\"Primer Valor: \",t1[0],\" y Ultimo valor: \",t1[-1])\n",
    "dir(t1)\n",
    "t1 = t1.__add__(('hola','como','te llamas',))\n",
    "print(\"\\nElementos añadidos: \",t1)\n",
    "\n",
    "print(\"El valor 1 esta en t1? \",1 in t1)"
   ]
  },
  {
   "cell_type": "markdown",
   "metadata": {},
   "source": [
    "Ejercicio 7: Listas\n",
    "\n",
    "Crear una lista con 40 elementos aleatorios enteros.\n",
    "\n",
    "Con una funcion (def) crear dos listas nuevas a partir de la lista creada por numeros aleatorios, en la cual en una esten los elementos pares, y en la otra los elementos impares.\n",
    "\n",
    "Crear dos variables con la longitud de ambas listas nuevas e imprimir las variables.\n",
    "\n",
    "Ordenar los elementos de la lista par de mayor a menor, y los de la lista impar de menor a mayor.\n",
    "\n",
    "Utilizar al menos cuatro de las funciones de listas en python en la lista original de 40 elementos."
   ]
  },
  {
   "cell_type": "code",
   "execution_count": 39,
   "metadata": {},
   "outputs": [
    {
     "name": "stdout",
     "output_type": "stream",
     "text": [
      "[3, 8, 16, 17, 20, 28, 30, 33, 38, 46, 69, 79, 84, 93, 104, 112, 134, 135, 142, 144, 146, 147, 150, 160, 166, 169, 170, 178, 187, 196, 198, 202, 215, 217, 225, 226, 227, 240, 246, 247]\n",
      "\n",
      "Longitud de lista de pares:  24\n",
      "Longitud de lista de impares:  16\n",
      "\n",
      "Impares:  [3, 11, 17, 33, 69, 79, 93, 135, 147, 169, 187, 215, 217, 225, 227, 247]\n",
      "Pares:  [246, 240, 226, 202, 198, 196, 178, 170, 166, 160, 146, 144, 142, 134, 112, 104, 84, 46, 38, 30, 28, 20, 16, 8]\n"
     ]
    }
   ],
   "source": [
    "import random as r\n",
    "num = range(1,250)\n",
    "lista1 = r.sample(num,40)\n",
    "print(sorted(lista1))\n",
    "lista1.pop()\n",
    "lista1.append(11)\n",
    "e = lista1.count(24)\n",
    "\n",
    "#Función de pares \n",
    "#https://www.youtube.com/watch?v=G7gkt9UUhVQ\n",
    "\n",
    "def filt_pares(lista1):\n",
    "    pares = []\n",
    "    for n in lista1:\n",
    "        if n % 2 == 0:\n",
    "            pares.append(n)\n",
    "    return pares\n",
    "def filt_impares(lista1):\n",
    "    impares = []\n",
    "    for n in lista1:\n",
    "        if n % 2 != 0:\n",
    "            impares.append(n)\n",
    "    return impares\n",
    "\n",
    "p = filt_pares(lista1)\n",
    "i = filt_impares(lista1)\n",
    "print()\n",
    "print(\"Longitud de lista de pares: \",len(p))\n",
    "print(\"Longitud de lista de impares: \",len(i))\n",
    "print()\n",
    "print(\"Impares: \",sorted(filt_impares(lista1)))\n",
    "print(\"Pares: \",sorted(filt_pares(lista1),reverse = True))\n"
   ]
  },
  {
   "cell_type": "markdown",
   "metadata": {},
   "source": [
    "Ejercicio 8: Diccionarios\n",
    "\n",
    "Crear un diccionario de 6 personas que conozcas con su primer nombre y su edad.\n",
    "\n",
    "Crear una lista con los valores de la edad y reacomodar la lista de menor a mayor valor.\n",
    "\n",
    "Usando el diccionario y un loop, imprimir solo los nombres.\n",
    "\n",
    "Añadir dos personas nuevas a tu diccionario, incluyendo edad."
   ]
  },
  {
   "cell_type": "code",
   "execution_count": 10,
   "metadata": {},
   "outputs": [
    {
     "name": "stdout",
     "output_type": "stream",
     "text": [
      "{'Vanessa': 20, 'Rebeca': 20, 'Jesús': 21, 'María': 18, 'Daniel': 20, 'Mario': 25}\n",
      "\n",
      "[18, 20, 20, 20, 21, 25]\n",
      "\n",
      "Vanessa\n",
      "Rebeca\n",
      "Jesús\n",
      "María\n",
      "Daniel\n",
      "Mario\n",
      "\n",
      "{'Vanessa': 20, 'Rebeca': 20, 'Jesús': 21, 'María': 18, 'Daniel': 20, 'Mario': 25, 'Rodolfo': 20, 'Andrea': 19}\n"
     ]
    }
   ],
   "source": [
    "dict1 = {'Vanessa':20, 'Rebeca': 20, 'Jesús': 21, 'María':18, 'Daniel':20, 'Mario': 25}\n",
    "print(dict1)\n",
    "print()\n",
    "list1 = dict1.values()\n",
    "print(sorted(list(list1)))\n",
    "print()\n",
    "for i in dict1: \n",
    "    print(i)\n",
    "print()    \n",
    "dict1['Rodolfo'] = 20\n",
    "dict1['Andrea'] = 19\n",
    "print(dict1)"
   ]
  },
  {
   "cell_type": "markdown",
   "metadata": {},
   "source": [
    "Ejercicio 9:\n",
    "Sets\n",
    "\n",
    "Crea un set con 100 numeros aleatorios enteros del 1 al 25.\n",
    "\n",
    "Comprueba la longitud de tu set.\n",
    "\n",
    "Crea una lista de 5 numeros aleatorios del 1 al 10 y comprueba si cada valor aparece en el set inicial."
   ]
  },
  {
   "cell_type": "code",
   "execution_count": 17,
   "metadata": {},
   "outputs": [
    {
     "name": "stdout",
     "output_type": "stream",
     "text": [
      "Lista de 100 numeros aleatorios:  [22, 2, 13, 13, 8, 9, 8, 7, 1, 4, 24, 14, 16, 12, 5, 15, 5, 5, 12, 25, 22, 22, 15, 12, 22, 5, 23, 10, 7, 23, 20, 4, 14, 5, 11, 21, 17, 7, 16, 12, 16, 21, 7, 24, 9, 6, 7, 2, 6, 21, 11, 21, 3, 2, 24, 15, 13, 15, 17, 16, 14, 15, 14, 5, 3, 19, 17, 8, 16, 19, 9, 18, 18, 6, 23, 23, 4, 1, 13, 1, 3, 19, 16, 17, 14, 2, 2, 4, 19, 9, 20, 13, 3, 12, 10, 21, 25, 16, 7, 5]\n",
      "\n",
      "Set:  {1, 2, 3, 4, 5, 6, 7, 8, 9, 10, 11, 12, 13, 14, 15, 16, 17, 18, 19, 20, 21, 22, 23, 24, 25}\n",
      "\n",
      "Longitud de set:  25\n",
      "\n",
      "Lista de 5 numeros del 1 al 10 -->  [7, 8, 2, 6, 4]\n",
      "\n",
      "El número  7  está en el set\n",
      "El número  8  está en el set\n",
      "El número  2  está en el set\n",
      "El número  6  está en el set\n",
      "El número  4  está en el set\n"
     ]
    }
   ],
   "source": [
    "import random as r\n",
    "lista2 = []\n",
    "lista3 = []\n",
    "for i in range(100):\n",
    "    x = r.randint(1,25)\n",
    "    lista2.append(x)\n",
    "    \n",
    "print(\"Lista de 100 numeros aleatorios: \",lista2)    \n",
    "set1 = set(lista2)\n",
    "print(\"\\nSet: \",set1)\n",
    "len(set1)\n",
    "print(\"\\nLongitud de set: \",len(set1))\n",
    "\n",
    "numero = range(1,10)\n",
    "lista3 = r.sample(numero,5)\n",
    "print(\"\\nLista de 5 numeros del 1 al 10 --> \",lista3)\n",
    "print()\n",
    "for n in lista3:\n",
    "    if n in set1:\n",
    "        print(\"El número \",n, \" está en el set\")\n",
    "    else:\n",
    "        print(\"El número \",n, \"no está en el set\")"
   ]
  }
 ],
 "metadata": {
  "kernelspec": {
   "display_name": "Python 3",
   "language": "python",
   "name": "python3"
  },
  "language_info": {
   "codemirror_mode": {
    "name": "ipython",
    "version": 3
   },
   "file_extension": ".py",
   "mimetype": "text/x-python",
   "name": "python",
   "nbconvert_exporter": "python",
   "pygments_lexer": "ipython3",
   "version": "3.8.5"
  }
 },
 "nbformat": 4,
 "nbformat_minor": 4
}
